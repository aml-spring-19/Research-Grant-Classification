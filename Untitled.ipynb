{
 "cells": [
  {
   "cell_type": "code",
   "execution_count": 29,
   "metadata": {
    "collapsed": true
   },
   "outputs": [],
   "source": [
    "import numpy as np\n",
    "import pandas as pd\n",
    "import matplotlib.pyplot as plt"
   ]
  },
  {
   "cell_type": "code",
   "execution_count": 30,
   "metadata": {
    "collapsed": true
   },
   "outputs": [],
   "source": [
    "%matplotlib inline"
   ]
  },
  {
   "cell_type": "code",
   "execution_count": 31,
   "metadata": {
    "collapsed": true
   },
   "outputs": [],
   "source": [
    "import graphviz"
   ]
  },
  {
   "cell_type": "code",
   "execution_count": 36,
   "metadata": {},
   "outputs": [
    {
     "name": "stderr",
     "output_type": "stream",
     "text": [
      "/Users/arnaudstiegler/anaconda3/lib/python3.6/site-packages/IPython/core/interactiveshell.py:2698: DtypeWarning: Columns (13,14,18,34,47,62) have mixed types. Specify dtype option on import or set low_memory=False.\n",
      "  interactivity=interactivity, compiler=compiler, result=result)\n"
     ]
    }
   ],
   "source": [
    "df = pd.read_csv(\"data/concatenated.csv\")\n",
    "\n",
    "#We shuffle the dataframe\n",
    "df = df.sample(frac=1, random_state=0)"
   ]
  },
  {
   "cell_type": "code",
   "execution_count": 48,
   "metadata": {},
   "outputs": [
    {
     "data": {
      "text/plain": [
       "0.0"
      ]
     },
     "execution_count": 48,
     "metadata": {},
     "output_type": "execute_result"
    }
   ],
   "source": [
    "#df['Teaching_Hospital_Name']\n",
    "df.loc[df['is_rch']==1]['Teaching_Hospital_Name'].isna().sum() / df.loc[df['is_rch']==1].shape[0]"
   ]
  },
  {
   "cell_type": "code",
   "execution_count": 49,
   "metadata": {
    "scrolled": true
   },
   "outputs": [
    {
     "data": {
      "text/plain": [
       "0.0"
      ]
     },
     "execution_count": 49,
     "metadata": {},
     "output_type": "execute_result"
    }
   ],
   "source": [
    "df.loc[df['is_rch']==0]['Teaching_Hospital_Name'].isna().sum() / df.loc[df['is_rch']==0].shape[0]"
   ]
  },
  {
   "cell_type": "code",
   "execution_count": 47,
   "metadata": {},
   "outputs": [],
   "source": [
    "df['Teaching_Hospital_Name'] = df['Teaching_Hospital_Name'].apply(lambda x: \"N/A\" if x is None else \"Not_missing\" )"
   ]
  },
  {
   "cell_type": "code",
   "execution_count": 57,
   "metadata": {},
   "outputs": [
    {
     "name": "stdout",
     "output_type": "stream",
     "text": [
      "2173\n",
      "985\n"
     ]
    }
   ],
   "source": [
    "print(df.loc[df['is_rch']==0]['Associated_Drug_or_Biological_NDC_1'].isna().sum())\n",
    "print(df.loc[df['is_rch']==1]['Associated_Drug_or_Biological_NDC_1'].isna().sum())"
   ]
  },
  {
   "cell_type": "code",
   "execution_count": 53,
   "metadata": {},
   "outputs": [
    {
     "data": {
      "text/plain": [
       "Index(['is_rch', 'Recipient_Primary_Business_Street_Address_Line2',\n",
       "       'Submitting_Applicable_Manufacturer_or_Applicable_GPO_Name',\n",
       "       'Recipient_Country', 'Recipient_City',\n",
       "       'Associated_Drug_or_Biological_NDC_3',\n",
       "       'Covered_or_Noncovered_Indicator_1', 'Payment_Publication_Date',\n",
       "       'Name_of_Drug_or_Biological_or_Device_or_Medical_Supply_1',\n",
       "       'Related_Product_Indicator',\n",
       "       'Indicate_Drug_or_Biological_or_Device_or_Medical_Supply_5',\n",
       "       'Physician_Primary_Type',\n",
       "       'Recipient_Primary_Business_Street_Address_Line1',\n",
       "       'Physician_License_State_code3', 'Associated_Drug_or_Biological_NDC_5',\n",
       "       'Teaching_Hospital_CCN', 'Product_Category_or_Therapeutic_Area_3',\n",
       "       'Change_Type', 'Physician_License_State_code4',\n",
       "       'Teaching_Hospital_Name', 'Physician_Middle_Name',\n",
       "       'Physician_Specialty', 'Product_Category_or_Therapeutic_Area_2',\n",
       "       'Associated_Drug_or_Biological_NDC_2', 'Recipient_State', 'Record_ID',\n",
       "       'Name_of_Drug_or_Biological_or_Device_or_Medical_Supply_4',\n",
       "       'Product_Category_or_Therapeutic_Area_4', 'Physician_Profile_ID',\n",
       "       'Recipient_Zip_Code',\n",
       "       'Applicable_Manufacturer_or_Applicable_GPO_Making_Payment_Name',\n",
       "       'Dispute_Status_for_Publication',\n",
       "       'Name_of_Drug_or_Biological_or_Device_or_Medical_Supply_2',\n",
       "       'Physician_Name_Suffix', 'Recipient_Province',\n",
       "       'Covered_or_Noncovered_Indicator_3', 'Physician_First_Name',\n",
       "       'Program_Year', 'Physician_Last_Name',\n",
       "       'Name_of_Drug_or_Biological_or_Device_or_Medical_Supply_5',\n",
       "       'Applicable_Manufacturer_or_Applicable_GPO_Making_Payment_State',\n",
       "       'Associated_Drug_or_Biological_NDC_1', 'Covered_Recipient_Type',\n",
       "       'Teaching_Hospital_ID', 'Product_Category_or_Therapeutic_Area_5',\n",
       "       'Indicate_Drug_or_Biological_or_Device_or_Medical_Supply_4',\n",
       "       'Indicate_Drug_or_Biological_or_Device_or_Medical_Supply_2',\n",
       "       'Recipient_Postal_Code',\n",
       "       'Applicable_Manufacturer_or_Applicable_GPO_Making_Payment_ID',\n",
       "       'Form_of_Payment_or_Transfer_of_Value',\n",
       "       'Indicate_Drug_or_Biological_or_Device_or_Medical_Supply_1',\n",
       "       'Associated_Drug_or_Biological_NDC_4',\n",
       "       'Covered_or_Noncovered_Indicator_5',\n",
       "       'Indicate_Drug_or_Biological_or_Device_or_Medical_Supply_3',\n",
       "       'Total_Amount_of_Payment_USDollars',\n",
       "       'Product_Category_or_Therapeutic_Area_1',\n",
       "       'Physician_License_State_code2', 'Date_of_Payment',\n",
       "       'Covered_or_Noncovered_Indicator_4', 'Physician_License_State_code1',\n",
       "       'Applicable_Manufacturer_or_Applicable_GPO_Making_Payment_Country',\n",
       "       'Covered_or_Noncovered_Indicator_2', 'Physician_License_State_code5',\n",
       "       'Delay_in_Publication_Indicator',\n",
       "       'Name_of_Drug_or_Biological_or_Device_or_Medical_Supply_3'],\n",
       "      dtype='object')"
      ]
     },
     "execution_count": 53,
     "metadata": {},
     "output_type": "execute_result"
    }
   ],
   "source": [
    "df.columns"
   ]
  },
  {
   "cell_type": "code",
   "execution_count": 33,
   "metadata": {},
   "outputs": [
    {
     "data": {
      "text/plain": [
       "1921"
      ]
     },
     "execution_count": 33,
     "metadata": {},
     "output_type": "execute_result"
    }
   ],
   "source": [
    "df.loc[df['is_rch']==1]['Physician_Primary_Type'].isna().sum()"
   ]
  },
  {
   "cell_type": "code",
   "execution_count": 34,
   "metadata": {},
   "outputs": [
    {
     "data": {
      "text/plain": [
       "30"
      ]
     },
     "execution_count": 34,
     "metadata": {},
     "output_type": "execute_result"
    }
   ],
   "source": [
    "df.loc[df['is_rch']==0]['Physician_Primary_Type'].isna().sum()"
   ]
  },
  {
   "cell_type": "code",
   "execution_count": 50,
   "metadata": {
    "collapsed": true
   },
   "outputs": [],
   "source": [
    "df[['Physician_Specialty_1', \n",
    "    'Physician_Specialty_2', \n",
    "    'Physician_Specialty_3']] = df['Physician_Specialty'].str.split('|', expand=True)"
   ]
  },
  {
   "cell_type": "code",
   "execution_count": 35,
   "metadata": {},
   "outputs": [
    {
     "ename": "KeyError",
     "evalue": "'Teaching_Hospital_ID '",
     "output_type": "error",
     "traceback": [
      "\u001b[0;31m---------------------------------------------------------------------------\u001b[0m",
      "\u001b[0;31mKeyError\u001b[0m                                  Traceback (most recent call last)",
      "\u001b[0;32m~/anaconda3/lib/python3.6/site-packages/pandas/core/indexes/base.py\u001b[0m in \u001b[0;36mget_loc\u001b[0;34m(self, key, method, tolerance)\u001b[0m\n\u001b[1;32m   3077\u001b[0m             \u001b[0;32mtry\u001b[0m\u001b[0;34m:\u001b[0m\u001b[0;34m\u001b[0m\u001b[0m\n\u001b[0;32m-> 3078\u001b[0;31m                 \u001b[0;32mreturn\u001b[0m \u001b[0mself\u001b[0m\u001b[0;34m.\u001b[0m\u001b[0m_engine\u001b[0m\u001b[0;34m.\u001b[0m\u001b[0mget_loc\u001b[0m\u001b[0;34m(\u001b[0m\u001b[0mkey\u001b[0m\u001b[0;34m)\u001b[0m\u001b[0;34m\u001b[0m\u001b[0m\n\u001b[0m\u001b[1;32m   3079\u001b[0m             \u001b[0;32mexcept\u001b[0m \u001b[0mKeyError\u001b[0m\u001b[0;34m:\u001b[0m\u001b[0;34m\u001b[0m\u001b[0m\n",
      "\u001b[0;32mpandas/_libs/index.pyx\u001b[0m in \u001b[0;36mpandas._libs.index.IndexEngine.get_loc\u001b[0;34m()\u001b[0m\n",
      "\u001b[0;32mpandas/_libs/index.pyx\u001b[0m in \u001b[0;36mpandas._libs.index.IndexEngine.get_loc\u001b[0;34m()\u001b[0m\n",
      "\u001b[0;32mpandas/_libs/hashtable_class_helper.pxi\u001b[0m in \u001b[0;36mpandas._libs.hashtable.PyObjectHashTable.get_item\u001b[0;34m()\u001b[0m\n",
      "\u001b[0;32mpandas/_libs/hashtable_class_helper.pxi\u001b[0m in \u001b[0;36mpandas._libs.hashtable.PyObjectHashTable.get_item\u001b[0;34m()\u001b[0m\n",
      "\u001b[0;31mKeyError\u001b[0m: 'Teaching_Hospital_ID '",
      "\nDuring handling of the above exception, another exception occurred:\n",
      "\u001b[0;31mKeyError\u001b[0m                                  Traceback (most recent call last)",
      "\u001b[0;32m<ipython-input-35-41317a58bd7a>\u001b[0m in \u001b[0;36m<module>\u001b[0;34m()\u001b[0m\n\u001b[0;32m----> 1\u001b[0;31m \u001b[0mdf\u001b[0m\u001b[0;34m.\u001b[0m\u001b[0mloc\u001b[0m\u001b[0;34m[\u001b[0m\u001b[0mdf\u001b[0m\u001b[0;34m[\u001b[0m\u001b[0;34m'is_rch'\u001b[0m\u001b[0;34m]\u001b[0m\u001b[0;34m==\u001b[0m\u001b[0;36m1\u001b[0m\u001b[0;34m]\u001b[0m\u001b[0;34m[\u001b[0m\u001b[0;34m'Teaching_Hospital_ID '\u001b[0m\u001b[0;34m]\u001b[0m\u001b[0;34m.\u001b[0m\u001b[0misna\u001b[0m\u001b[0;34m(\u001b[0m\u001b[0;34m)\u001b[0m\u001b[0;34m.\u001b[0m\u001b[0msum\u001b[0m\u001b[0;34m(\u001b[0m\u001b[0;34m)\u001b[0m\u001b[0;34m\u001b[0m\u001b[0m\n\u001b[0m",
      "\u001b[0;32m~/anaconda3/lib/python3.6/site-packages/pandas/core/frame.py\u001b[0m in \u001b[0;36m__getitem__\u001b[0;34m(self, key)\u001b[0m\n\u001b[1;32m   2686\u001b[0m             \u001b[0;32mreturn\u001b[0m \u001b[0mself\u001b[0m\u001b[0;34m.\u001b[0m\u001b[0m_getitem_multilevel\u001b[0m\u001b[0;34m(\u001b[0m\u001b[0mkey\u001b[0m\u001b[0;34m)\u001b[0m\u001b[0;34m\u001b[0m\u001b[0m\n\u001b[1;32m   2687\u001b[0m         \u001b[0;32melse\u001b[0m\u001b[0;34m:\u001b[0m\u001b[0;34m\u001b[0m\u001b[0m\n\u001b[0;32m-> 2688\u001b[0;31m             \u001b[0;32mreturn\u001b[0m \u001b[0mself\u001b[0m\u001b[0;34m.\u001b[0m\u001b[0m_getitem_column\u001b[0m\u001b[0;34m(\u001b[0m\u001b[0mkey\u001b[0m\u001b[0;34m)\u001b[0m\u001b[0;34m\u001b[0m\u001b[0m\n\u001b[0m\u001b[1;32m   2689\u001b[0m \u001b[0;34m\u001b[0m\u001b[0m\n\u001b[1;32m   2690\u001b[0m     \u001b[0;32mdef\u001b[0m \u001b[0m_getitem_column\u001b[0m\u001b[0;34m(\u001b[0m\u001b[0mself\u001b[0m\u001b[0;34m,\u001b[0m \u001b[0mkey\u001b[0m\u001b[0;34m)\u001b[0m\u001b[0;34m:\u001b[0m\u001b[0;34m\u001b[0m\u001b[0m\n",
      "\u001b[0;32m~/anaconda3/lib/python3.6/site-packages/pandas/core/frame.py\u001b[0m in \u001b[0;36m_getitem_column\u001b[0;34m(self, key)\u001b[0m\n\u001b[1;32m   2693\u001b[0m         \u001b[0;31m# get column\u001b[0m\u001b[0;34m\u001b[0m\u001b[0;34m\u001b[0m\u001b[0m\n\u001b[1;32m   2694\u001b[0m         \u001b[0;32mif\u001b[0m \u001b[0mself\u001b[0m\u001b[0;34m.\u001b[0m\u001b[0mcolumns\u001b[0m\u001b[0;34m.\u001b[0m\u001b[0mis_unique\u001b[0m\u001b[0;34m:\u001b[0m\u001b[0;34m\u001b[0m\u001b[0m\n\u001b[0;32m-> 2695\u001b[0;31m             \u001b[0;32mreturn\u001b[0m \u001b[0mself\u001b[0m\u001b[0;34m.\u001b[0m\u001b[0m_get_item_cache\u001b[0m\u001b[0;34m(\u001b[0m\u001b[0mkey\u001b[0m\u001b[0;34m)\u001b[0m\u001b[0;34m\u001b[0m\u001b[0m\n\u001b[0m\u001b[1;32m   2696\u001b[0m \u001b[0;34m\u001b[0m\u001b[0m\n\u001b[1;32m   2697\u001b[0m         \u001b[0;31m# duplicate columns & possible reduce dimensionality\u001b[0m\u001b[0;34m\u001b[0m\u001b[0;34m\u001b[0m\u001b[0m\n",
      "\u001b[0;32m~/anaconda3/lib/python3.6/site-packages/pandas/core/generic.py\u001b[0m in \u001b[0;36m_get_item_cache\u001b[0;34m(self, item)\u001b[0m\n\u001b[1;32m   2487\u001b[0m         \u001b[0mres\u001b[0m \u001b[0;34m=\u001b[0m \u001b[0mcache\u001b[0m\u001b[0;34m.\u001b[0m\u001b[0mget\u001b[0m\u001b[0;34m(\u001b[0m\u001b[0mitem\u001b[0m\u001b[0;34m)\u001b[0m\u001b[0;34m\u001b[0m\u001b[0m\n\u001b[1;32m   2488\u001b[0m         \u001b[0;32mif\u001b[0m \u001b[0mres\u001b[0m \u001b[0;32mis\u001b[0m \u001b[0;32mNone\u001b[0m\u001b[0;34m:\u001b[0m\u001b[0;34m\u001b[0m\u001b[0m\n\u001b[0;32m-> 2489\u001b[0;31m             \u001b[0mvalues\u001b[0m \u001b[0;34m=\u001b[0m \u001b[0mself\u001b[0m\u001b[0;34m.\u001b[0m\u001b[0m_data\u001b[0m\u001b[0;34m.\u001b[0m\u001b[0mget\u001b[0m\u001b[0;34m(\u001b[0m\u001b[0mitem\u001b[0m\u001b[0;34m)\u001b[0m\u001b[0;34m\u001b[0m\u001b[0m\n\u001b[0m\u001b[1;32m   2490\u001b[0m             \u001b[0mres\u001b[0m \u001b[0;34m=\u001b[0m \u001b[0mself\u001b[0m\u001b[0;34m.\u001b[0m\u001b[0m_box_item_values\u001b[0m\u001b[0;34m(\u001b[0m\u001b[0mitem\u001b[0m\u001b[0;34m,\u001b[0m \u001b[0mvalues\u001b[0m\u001b[0;34m)\u001b[0m\u001b[0;34m\u001b[0m\u001b[0m\n\u001b[1;32m   2491\u001b[0m             \u001b[0mcache\u001b[0m\u001b[0;34m[\u001b[0m\u001b[0mitem\u001b[0m\u001b[0;34m]\u001b[0m \u001b[0;34m=\u001b[0m \u001b[0mres\u001b[0m\u001b[0;34m\u001b[0m\u001b[0m\n",
      "\u001b[0;32m~/anaconda3/lib/python3.6/site-packages/pandas/core/internals.py\u001b[0m in \u001b[0;36mget\u001b[0;34m(self, item, fastpath)\u001b[0m\n\u001b[1;32m   4113\u001b[0m \u001b[0;34m\u001b[0m\u001b[0m\n\u001b[1;32m   4114\u001b[0m             \u001b[0;32mif\u001b[0m \u001b[0;32mnot\u001b[0m \u001b[0misna\u001b[0m\u001b[0;34m(\u001b[0m\u001b[0mitem\u001b[0m\u001b[0;34m)\u001b[0m\u001b[0;34m:\u001b[0m\u001b[0;34m\u001b[0m\u001b[0m\n\u001b[0;32m-> 4115\u001b[0;31m                 \u001b[0mloc\u001b[0m \u001b[0;34m=\u001b[0m \u001b[0mself\u001b[0m\u001b[0;34m.\u001b[0m\u001b[0mitems\u001b[0m\u001b[0;34m.\u001b[0m\u001b[0mget_loc\u001b[0m\u001b[0;34m(\u001b[0m\u001b[0mitem\u001b[0m\u001b[0;34m)\u001b[0m\u001b[0;34m\u001b[0m\u001b[0m\n\u001b[0m\u001b[1;32m   4116\u001b[0m             \u001b[0;32melse\u001b[0m\u001b[0;34m:\u001b[0m\u001b[0;34m\u001b[0m\u001b[0m\n\u001b[1;32m   4117\u001b[0m                 \u001b[0mindexer\u001b[0m \u001b[0;34m=\u001b[0m \u001b[0mnp\u001b[0m\u001b[0;34m.\u001b[0m\u001b[0marange\u001b[0m\u001b[0;34m(\u001b[0m\u001b[0mlen\u001b[0m\u001b[0;34m(\u001b[0m\u001b[0mself\u001b[0m\u001b[0;34m.\u001b[0m\u001b[0mitems\u001b[0m\u001b[0;34m)\u001b[0m\u001b[0;34m)\u001b[0m\u001b[0;34m[\u001b[0m\u001b[0misna\u001b[0m\u001b[0;34m(\u001b[0m\u001b[0mself\u001b[0m\u001b[0;34m.\u001b[0m\u001b[0mitems\u001b[0m\u001b[0;34m)\u001b[0m\u001b[0;34m]\u001b[0m\u001b[0;34m\u001b[0m\u001b[0m\n",
      "\u001b[0;32m~/anaconda3/lib/python3.6/site-packages/pandas/core/indexes/base.py\u001b[0m in \u001b[0;36mget_loc\u001b[0;34m(self, key, method, tolerance)\u001b[0m\n\u001b[1;32m   3078\u001b[0m                 \u001b[0;32mreturn\u001b[0m \u001b[0mself\u001b[0m\u001b[0;34m.\u001b[0m\u001b[0m_engine\u001b[0m\u001b[0;34m.\u001b[0m\u001b[0mget_loc\u001b[0m\u001b[0;34m(\u001b[0m\u001b[0mkey\u001b[0m\u001b[0;34m)\u001b[0m\u001b[0;34m\u001b[0m\u001b[0m\n\u001b[1;32m   3079\u001b[0m             \u001b[0;32mexcept\u001b[0m \u001b[0mKeyError\u001b[0m\u001b[0;34m:\u001b[0m\u001b[0;34m\u001b[0m\u001b[0m\n\u001b[0;32m-> 3080\u001b[0;31m                 \u001b[0;32mreturn\u001b[0m \u001b[0mself\u001b[0m\u001b[0;34m.\u001b[0m\u001b[0m_engine\u001b[0m\u001b[0;34m.\u001b[0m\u001b[0mget_loc\u001b[0m\u001b[0;34m(\u001b[0m\u001b[0mself\u001b[0m\u001b[0;34m.\u001b[0m\u001b[0m_maybe_cast_indexer\u001b[0m\u001b[0;34m(\u001b[0m\u001b[0mkey\u001b[0m\u001b[0;34m)\u001b[0m\u001b[0;34m)\u001b[0m\u001b[0;34m\u001b[0m\u001b[0m\n\u001b[0m\u001b[1;32m   3081\u001b[0m \u001b[0;34m\u001b[0m\u001b[0m\n\u001b[1;32m   3082\u001b[0m         \u001b[0mindexer\u001b[0m \u001b[0;34m=\u001b[0m \u001b[0mself\u001b[0m\u001b[0;34m.\u001b[0m\u001b[0mget_indexer\u001b[0m\u001b[0;34m(\u001b[0m\u001b[0;34m[\u001b[0m\u001b[0mkey\u001b[0m\u001b[0;34m]\u001b[0m\u001b[0;34m,\u001b[0m \u001b[0mmethod\u001b[0m\u001b[0;34m=\u001b[0m\u001b[0mmethod\u001b[0m\u001b[0;34m,\u001b[0m \u001b[0mtolerance\u001b[0m\u001b[0;34m=\u001b[0m\u001b[0mtolerance\u001b[0m\u001b[0;34m)\u001b[0m\u001b[0;34m\u001b[0m\u001b[0m\n",
      "\u001b[0;32mpandas/_libs/index.pyx\u001b[0m in \u001b[0;36mpandas._libs.index.IndexEngine.get_loc\u001b[0;34m()\u001b[0m\n",
      "\u001b[0;32mpandas/_libs/index.pyx\u001b[0m in \u001b[0;36mpandas._libs.index.IndexEngine.get_loc\u001b[0;34m()\u001b[0m\n",
      "\u001b[0;32mpandas/_libs/hashtable_class_helper.pxi\u001b[0m in \u001b[0;36mpandas._libs.hashtable.PyObjectHashTable.get_item\u001b[0;34m()\u001b[0m\n",
      "\u001b[0;32mpandas/_libs/hashtable_class_helper.pxi\u001b[0m in \u001b[0;36mpandas._libs.hashtable.PyObjectHashTable.get_item\u001b[0;34m()\u001b[0m\n",
      "\u001b[0;31mKeyError\u001b[0m: 'Teaching_Hospital_ID '"
     ]
    }
   ],
   "source": [
    "df.loc[df['is_rch']==1]['Teaching_Hospital_ID '].isna().sum()"
   ]
  },
  {
   "cell_type": "code",
   "execution_count": 52,
   "metadata": {},
   "outputs": [
    {
     "data": {
      "text/plain": [
       "40"
      ]
     },
     "execution_count": 52,
     "metadata": {},
     "output_type": "execute_result"
    }
   ],
   "source": [
    "df.loc[df['is_rch']==0]['Teaching_Hospital_ID '].isna().sum()"
   ]
  },
  {
   "cell_type": "code",
   "execution_count": 53,
   "metadata": {},
   "outputs": [
    {
     "data": {
      "text/plain": [
       "1921"
      ]
     },
     "execution_count": 53,
     "metadata": {},
     "output_type": "execute_result"
    }
   ],
   "source": [
    "df.loc[df['is_rch']==1]['Physician_Specialty_2'].isna().sum()"
   ]
  },
  {
   "cell_type": "code",
   "execution_count": 54,
   "metadata": {},
   "outputs": [
    {
     "data": {
      "text/plain": [
       "40"
      ]
     },
     "execution_count": 54,
     "metadata": {},
     "output_type": "execute_result"
    }
   ],
   "source": [
    "df.loc[df['is_rch']==0]['Physician_Specialty_2'].isna().sum()"
   ]
  },
  {
   "cell_type": "code",
   "execution_count": 55,
   "metadata": {},
   "outputs": [
    {
     "data": {
      "text/plain": [
       "<matplotlib.axes._subplots.AxesSubplot at 0x10cb42780>"
      ]
     },
     "execution_count": 55,
     "metadata": {},
     "output_type": "execute_result"
    },
    {
     "data": {
      "image/png": "[encoded data removed]",
      "text/plain": [
       "<Figure size 432x288 with 1 Axes>"
      ]
     },
     "metadata": {
      "needs_background": "light"
     },
     "output_type": "display_data"
    }
   ],
   "source": [
    "import seaborn as sns\n",
    "\n",
    "sns.countplot(x='Form_of_Payment_or_Transfer_of_Value', data=df,hue='is_rch')\n",
    "#df.groupby('is_rch').size().plot(kind='bar')"
   ]
  },
  {
   "cell_type": "code",
   "execution_count": 56,
   "metadata": {},
   "outputs": [
    {
     "data": {
      "text/plain": [
       "In-kind items and services                        6747\n",
       "Cash or cash equivalent                           1252\n",
       "Dividend, profit or other return on investment       1\n",
       "Name: Form_of_Payment_or_Transfer_of_Value, dtype: int64"
      ]
     },
     "execution_count": 56,
     "metadata": {},
     "output_type": "execute_result"
    }
   ],
   "source": [
    "df.loc[df['is_rch']==0]['Form_of_Payment_or_Transfer_of_Value'].value_counts()"
   ]
  },
  {
   "cell_type": "code",
   "execution_count": 57,
   "metadata": {},
   "outputs": [
    {
     "data": {
      "text/plain": [
       "Cash or cash equivalent       1579\n",
       "In-kind items and services     421\n",
       "Name: Form_of_Payment_or_Transfer_of_Value, dtype: int64"
      ]
     },
     "execution_count": 57,
     "metadata": {},
     "output_type": "execute_result"
    }
   ],
   "source": [
    "df.loc[df['is_rch']==1]['Form_of_Payment_or_Transfer_of_Value'].value_counts()"
   ]
  },
  {
   "cell_type": "code",
   "execution_count": 58,
   "metadata": {
    "collapsed": true
   },
   "outputs": [],
   "source": [
    "df = df.iloc[:,list(df.isna().sum() < 9*1e3)]"
   ]
  },
  {
   "cell_type": "code",
   "execution_count": 59,
   "metadata": {},
   "outputs": [
    {
     "data": {
      "text/plain": [
       "Index(['is_rch', 'Recipient_Primary_Business_Street_Address_Line2',\n",
       "       'Submitting_Applicable_Manufacturer_or_Applicable_GPO_Name',\n",
       "       'Recipient_Country', 'Recipient_City',\n",
       "       'Covered_or_Noncovered_Indicator_1', 'Payment_Publication_Date',\n",
       "       'Name_of_Drug_or_Biological_or_Device_or_Medical_Supply_1',\n",
       "       'Related_Product_Indicator', 'Physician_Primary_Type',\n",
       "       'Recipient_Primary_Business_Street_Address_Line1', 'Change_Type',\n",
       "       'Physician_Middle_Name', 'Physician_Specialty',\n",
       "       'Product_Category_or_Therapeutic_Area_2',\n",
       "       'Associated_Drug_or_Biological_NDC_2', 'Recipient_State', 'Record_ID',\n",
       "       'Physician_Profile_ID', 'Recipient_Zip_Code',\n",
       "       'Applicable_Manufacturer_or_Applicable_GPO_Making_Payment_Name',\n",
       "       'Dispute_Status_for_Publication',\n",
       "       'Name_of_Drug_or_Biological_or_Device_or_Medical_Supply_2',\n",
       "       'Physician_First_Name', 'Program_Year', 'Physician_Last_Name',\n",
       "       'Applicable_Manufacturer_or_Applicable_GPO_Making_Payment_State',\n",
       "       'Associated_Drug_or_Biological_NDC_1', 'Covered_Recipient_Type',\n",
       "       'Indicate_Drug_or_Biological_or_Device_or_Medical_Supply_2',\n",
       "       'Applicable_Manufacturer_or_Applicable_GPO_Making_Payment_ID',\n",
       "       'Form_of_Payment_or_Transfer_of_Value',\n",
       "       'Indicate_Drug_or_Biological_or_Device_or_Medical_Supply_1',\n",
       "       'Total_Amount_of_Payment_USDollars',\n",
       "       'Product_Category_or_Therapeutic_Area_1', 'Date_of_Payment',\n",
       "       'Physician_License_State_code1',\n",
       "       'Applicable_Manufacturer_or_Applicable_GPO_Making_Payment_Country',\n",
       "       'Covered_or_Noncovered_Indicator_2', 'Delay_in_Publication_Indicator',\n",
       "       'Physician_Specialty_1', 'Physician_Specialty_2',\n",
       "       'Physician_Specialty_3'],\n",
       "      dtype='object')"
      ]
     },
     "execution_count": 59,
     "metadata": {},
     "output_type": "execute_result"
    }
   ],
   "source": [
    "df.columns"
   ]
  },
  {
   "cell_type": "code",
   "execution_count": 60,
   "metadata": {
    "collapsed": true
   },
   "outputs": [],
   "source": [
    "to_keep1 = ['Physician_License_State_code1',\n",
    "           'Applicable_Manufacturer_or_Applicable_GPO_Making_Payment_Country',\n",
    "           'Related_Product_Indicator',\n",
    "           'Physician_Primary_Type',\n",
    "           'Form_of_Payment_or_Transfer_of_Value',\n",
    "           'Change_Type',\n",
    "           'Covered_or_Noncovered_Indicator_2',\n",
    "           'Total_Amount_of_Payment_USDollars',\n",
    "           'Recipient_State',\n",
    "           'Date_of_Payment',\n",
    "           'Physician_Specialty',\n",
    "           'Covered_Recipient_Type',\n",
    "           'Indicate_Drug_or_Biological_or_Device_or_Medical_Supply_2',\n",
    "           'Applicable_Manufacturer_or_Applicable_GPO_Making_Payment_State',\n",
    "           'Indicate_Drug_or_Biological_or_Device_or_Medical_Supply_1',\n",
    "           'Covered_or_Noncovered_Indicator_1',\n",
    "           'Recipient_Country',\n",
    "           'Dispute_Status_for_Publication',\n",
    "           'is_rch']\n",
    "\n",
    "to_keep = ['is_rch','Date_of_Payment','Applicable_Manufacturer_or_Applicable_GPO_Making_Payment_Country',\n",
    "       'Related_Product_Indicator', 'Change_Type',\n",
    "       'Covered_or_Noncovered_Indicator_2', 'Recipient_State',\n",
    "       'Indicate_Drug_or_Biological_or_Device_or_Medical_Supply_2',\n",
    "       'Applicable_Manufacturer_or_Applicable_GPO_Making_Payment_State',\n",
    "       'Indicate_Drug_or_Biological_or_Device_or_Medical_Supply_1',\n",
    "           'Total_Amount_of_Payment_USDollars']"
   ]
  },
  {
   "cell_type": "code",
   "execution_count": 61,
   "metadata": {
    "collapsed": true
   },
   "outputs": [],
   "source": [
    "df = df[to_keep]"
   ]
  },
  {
   "cell_type": "code",
   "execution_count": 62,
   "metadata": {
    "collapsed": true
   },
   "outputs": [],
   "source": [
    "df['Date_of_Payment'] = pd.to_datetime(df['Date_of_Payment'])\n",
    "df['Day_of_week_of_Payment'] = df['Date_of_Payment'].dt.day_name()\n",
    "df = df[df['Total_Amount_of_Payment_USDollars'] < 80000]"
   ]
  },
  {
   "cell_type": "code",
   "execution_count": 63,
   "metadata": {
    "collapsed": true
   },
   "outputs": [],
   "source": [
    "def weekend_map(row):\n",
    "    if row['Day_of_week_of_Payment'] == 'Saturday':  \n",
    "        return 1\n",
    "    elif row['Day_of_week_of_Payment'] == 'Sunday':\n",
    "        return 1\n",
    "    else:\n",
    "        return 0\n",
    "    \n",
    "df['Week_or_weekend_Payment'] = df.apply(weekend_map, axis=1).astype(object)\n",
    "df['Day_of_month_of_Payment'] = df['Date_of_Payment'].dt.day.astype(object)\n",
    "df['Month_of_Payment'] = df['Date_of_Payment'].dt.month.astype(object)"
   ]
  },
  {
   "cell_type": "code",
   "execution_count": 64,
   "metadata": {
    "collapsed": true
   },
   "outputs": [],
   "source": [
    "df = df.drop('Date_of_Payment', axis=1)"
   ]
  },
  {
   "cell_type": "code",
   "execution_count": 65,
   "metadata": {},
   "outputs": [
    {
     "data": {
      "text/plain": [
       "Index(['is_rch',\n",
       "       'Applicable_Manufacturer_or_Applicable_GPO_Making_Payment_Country',\n",
       "       'Related_Product_Indicator', 'Change_Type',\n",
       "       'Covered_or_Noncovered_Indicator_2', 'Recipient_State',\n",
       "       'Indicate_Drug_or_Biological_or_Device_or_Medical_Supply_2',\n",
       "       'Applicable_Manufacturer_or_Applicable_GPO_Making_Payment_State',\n",
       "       'Indicate_Drug_or_Biological_or_Device_or_Medical_Supply_1',\n",
       "       'Total_Amount_of_Payment_USDollars', 'Day_of_week_of_Payment',\n",
       "       'Week_or_weekend_Payment', 'Day_of_month_of_Payment',\n",
       "       'Month_of_Payment'],\n",
       "      dtype='object')"
      ]
     },
     "execution_count": 65,
     "metadata": {},
     "output_type": "execute_result"
    }
   ],
   "source": [
    "df.columns"
   ]
  },
  {
   "cell_type": "code",
   "execution_count": 66,
   "metadata": {},
   "outputs": [
    {
     "ename": "KeyError",
     "evalue": "\"['Physician_License_State_code1' 'Covered_or_Noncovered_Indicator_1'\\n 'Physician_Specialty_3' 'Physician_Specialty' 'Recipient_Country'\\n 'Dispute_Status_for_Publication'] not found in axis\"",
     "output_type": "error",
     "traceback": [
      "\u001b[0;31m---------------------------------------------------------------------------\u001b[0m",
      "\u001b[0;31mKeyError\u001b[0m                                  Traceback (most recent call last)",
      "\u001b[0;32m<ipython-input-66-51129bc0b93f>\u001b[0m in \u001b[0;36m<module>\u001b[0;34m()\u001b[0m\n\u001b[1;32m      5\u001b[0m \u001b[0mto_remove\u001b[0m\u001b[0;34m.\u001b[0m\u001b[0mappend\u001b[0m\u001b[0;34m(\u001b[0m\u001b[0;34m'Recipient_Country'\u001b[0m\u001b[0;34m)\u001b[0m\u001b[0;34m\u001b[0m\u001b[0m\n\u001b[1;32m      6\u001b[0m \u001b[0mto_remove\u001b[0m\u001b[0;34m.\u001b[0m\u001b[0mappend\u001b[0m\u001b[0;34m(\u001b[0m\u001b[0;34m'Dispute_Status_for_Publication'\u001b[0m\u001b[0;34m)\u001b[0m\u001b[0;34m\u001b[0m\u001b[0m\n\u001b[0;32m----> 7\u001b[0;31m \u001b[0mdf\u001b[0m \u001b[0;34m=\u001b[0m \u001b[0mdf\u001b[0m\u001b[0;34m.\u001b[0m\u001b[0mdrop\u001b[0m\u001b[0;34m(\u001b[0m\u001b[0mcolumns\u001b[0m\u001b[0;34m=\u001b[0m\u001b[0mto_remove\u001b[0m\u001b[0;34m)\u001b[0m\u001b[0;34m\u001b[0m\u001b[0m\n\u001b[0m\u001b[1;32m      8\u001b[0m \u001b[0mprint\u001b[0m\u001b[0;34m(\u001b[0m\u001b[0mdf\u001b[0m\u001b[0;34m.\u001b[0m\u001b[0mshape\u001b[0m\u001b[0;34m)\u001b[0m\u001b[0;34m\u001b[0m\u001b[0m\n",
      "\u001b[0;32m~/anaconda3/lib/python3.6/site-packages/pandas/core/frame.py\u001b[0m in \u001b[0;36mdrop\u001b[0;34m(self, labels, axis, index, columns, level, inplace, errors)\u001b[0m\n\u001b[1;32m   3695\u001b[0m                                            \u001b[0mindex\u001b[0m\u001b[0;34m=\u001b[0m\u001b[0mindex\u001b[0m\u001b[0;34m,\u001b[0m \u001b[0mcolumns\u001b[0m\u001b[0;34m=\u001b[0m\u001b[0mcolumns\u001b[0m\u001b[0;34m,\u001b[0m\u001b[0;34m\u001b[0m\u001b[0m\n\u001b[1;32m   3696\u001b[0m                                            \u001b[0mlevel\u001b[0m\u001b[0;34m=\u001b[0m\u001b[0mlevel\u001b[0m\u001b[0;34m,\u001b[0m \u001b[0minplace\u001b[0m\u001b[0;34m=\u001b[0m\u001b[0minplace\u001b[0m\u001b[0;34m,\u001b[0m\u001b[0;34m\u001b[0m\u001b[0m\n\u001b[0;32m-> 3697\u001b[0;31m                                            errors=errors)\n\u001b[0m\u001b[1;32m   3698\u001b[0m \u001b[0;34m\u001b[0m\u001b[0m\n\u001b[1;32m   3699\u001b[0m     @rewrite_axis_style_signature('mapper', [('copy', True),\n",
      "\u001b[0;32m~/anaconda3/lib/python3.6/site-packages/pandas/core/generic.py\u001b[0m in \u001b[0;36mdrop\u001b[0;34m(self, labels, axis, index, columns, level, inplace, errors)\u001b[0m\n\u001b[1;32m   3109\u001b[0m         \u001b[0;32mfor\u001b[0m \u001b[0maxis\u001b[0m\u001b[0;34m,\u001b[0m \u001b[0mlabels\u001b[0m \u001b[0;32min\u001b[0m \u001b[0maxes\u001b[0m\u001b[0;34m.\u001b[0m\u001b[0mitems\u001b[0m\u001b[0;34m(\u001b[0m\u001b[0;34m)\u001b[0m\u001b[0;34m:\u001b[0m\u001b[0;34m\u001b[0m\u001b[0m\n\u001b[1;32m   3110\u001b[0m             \u001b[0;32mif\u001b[0m \u001b[0mlabels\u001b[0m \u001b[0;32mis\u001b[0m \u001b[0;32mnot\u001b[0m \u001b[0;32mNone\u001b[0m\u001b[0;34m:\u001b[0m\u001b[0;34m\u001b[0m\u001b[0m\n\u001b[0;32m-> 3111\u001b[0;31m                 \u001b[0mobj\u001b[0m \u001b[0;34m=\u001b[0m \u001b[0mobj\u001b[0m\u001b[0;34m.\u001b[0m\u001b[0m_drop_axis\u001b[0m\u001b[0;34m(\u001b[0m\u001b[0mlabels\u001b[0m\u001b[0;34m,\u001b[0m \u001b[0maxis\u001b[0m\u001b[0;34m,\u001b[0m \u001b[0mlevel\u001b[0m\u001b[0;34m=\u001b[0m\u001b[0mlevel\u001b[0m\u001b[0;34m,\u001b[0m \u001b[0merrors\u001b[0m\u001b[0;34m=\u001b[0m\u001b[0merrors\u001b[0m\u001b[0;34m)\u001b[0m\u001b[0;34m\u001b[0m\u001b[0m\n\u001b[0m\u001b[1;32m   3112\u001b[0m \u001b[0;34m\u001b[0m\u001b[0m\n\u001b[1;32m   3113\u001b[0m         \u001b[0;32mif\u001b[0m \u001b[0minplace\u001b[0m\u001b[0;34m:\u001b[0m\u001b[0;34m\u001b[0m\u001b[0m\n",
      "\u001b[0;32m~/anaconda3/lib/python3.6/site-packages/pandas/core/generic.py\u001b[0m in \u001b[0;36m_drop_axis\u001b[0;34m(self, labels, axis, level, errors)\u001b[0m\n\u001b[1;32m   3141\u001b[0m                 \u001b[0mnew_axis\u001b[0m \u001b[0;34m=\u001b[0m \u001b[0maxis\u001b[0m\u001b[0;34m.\u001b[0m\u001b[0mdrop\u001b[0m\u001b[0;34m(\u001b[0m\u001b[0mlabels\u001b[0m\u001b[0;34m,\u001b[0m \u001b[0mlevel\u001b[0m\u001b[0;34m=\u001b[0m\u001b[0mlevel\u001b[0m\u001b[0;34m,\u001b[0m \u001b[0merrors\u001b[0m\u001b[0;34m=\u001b[0m\u001b[0merrors\u001b[0m\u001b[0;34m)\u001b[0m\u001b[0;34m\u001b[0m\u001b[0m\n\u001b[1;32m   3142\u001b[0m             \u001b[0;32melse\u001b[0m\u001b[0;34m:\u001b[0m\u001b[0;34m\u001b[0m\u001b[0m\n\u001b[0;32m-> 3143\u001b[0;31m                 \u001b[0mnew_axis\u001b[0m \u001b[0;34m=\u001b[0m \u001b[0maxis\u001b[0m\u001b[0;34m.\u001b[0m\u001b[0mdrop\u001b[0m\u001b[0;34m(\u001b[0m\u001b[0mlabels\u001b[0m\u001b[0;34m,\u001b[0m \u001b[0merrors\u001b[0m\u001b[0;34m=\u001b[0m\u001b[0merrors\u001b[0m\u001b[0;34m)\u001b[0m\u001b[0;34m\u001b[0m\u001b[0m\n\u001b[0m\u001b[1;32m   3144\u001b[0m             \u001b[0mresult\u001b[0m \u001b[0;34m=\u001b[0m \u001b[0mself\u001b[0m\u001b[0;34m.\u001b[0m\u001b[0mreindex\u001b[0m\u001b[0;34m(\u001b[0m\u001b[0;34m**\u001b[0m\u001b[0;34m{\u001b[0m\u001b[0maxis_name\u001b[0m\u001b[0;34m:\u001b[0m \u001b[0mnew_axis\u001b[0m\u001b[0;34m}\u001b[0m\u001b[0;34m)\u001b[0m\u001b[0;34m\u001b[0m\u001b[0m\n\u001b[1;32m   3145\u001b[0m \u001b[0;34m\u001b[0m\u001b[0m\n",
      "\u001b[0;32m~/anaconda3/lib/python3.6/site-packages/pandas/core/indexes/base.py\u001b[0m in \u001b[0;36mdrop\u001b[0;34m(self, labels, errors)\u001b[0m\n\u001b[1;32m   4402\u001b[0m             \u001b[0;32mif\u001b[0m \u001b[0merrors\u001b[0m \u001b[0;34m!=\u001b[0m \u001b[0;34m'ignore'\u001b[0m\u001b[0;34m:\u001b[0m\u001b[0;34m\u001b[0m\u001b[0m\n\u001b[1;32m   4403\u001b[0m                 raise KeyError(\n\u001b[0;32m-> 4404\u001b[0;31m                     '{} not found in axis'.format(labels[mask]))\n\u001b[0m\u001b[1;32m   4405\u001b[0m             \u001b[0mindexer\u001b[0m \u001b[0;34m=\u001b[0m \u001b[0mindexer\u001b[0m\u001b[0;34m[\u001b[0m\u001b[0;34m~\u001b[0m\u001b[0mmask\u001b[0m\u001b[0;34m]\u001b[0m\u001b[0;34m\u001b[0m\u001b[0m\n\u001b[1;32m   4406\u001b[0m         \u001b[0;32mreturn\u001b[0m \u001b[0mself\u001b[0m\u001b[0;34m.\u001b[0m\u001b[0mdelete\u001b[0m\u001b[0;34m(\u001b[0m\u001b[0mindexer\u001b[0m\u001b[0;34m)\u001b[0m\u001b[0;34m\u001b[0m\u001b[0m\n",
      "\u001b[0;31mKeyError\u001b[0m: \"['Physician_License_State_code1' 'Covered_or_Noncovered_Indicator_1'\\n 'Physician_Specialty_3' 'Physician_Specialty' 'Recipient_Country'\\n 'Dispute_Status_for_Publication'] not found in axis\""
     ]
    }
   ],
   "source": [
    "to_remove = ['Physician_License_State_code1']\n",
    "to_remove.append('Covered_or_Noncovered_Indicator_1')\n",
    "to_remove.append('Physician_Specialty_3')\n",
    "to_remove.append('Physician_Specialty')\n",
    "to_remove.append('Recipient_Country')\n",
    "to_remove.append('Dispute_Status_for_Publication')\n",
    "df = df.drop(columns=to_remove)\n",
    "print(df.shape)"
   ]
  },
  {
   "cell_type": "code",
   "execution_count": 67,
   "metadata": {},
   "outputs": [
    {
     "data": {
      "text/plain": [
       "Index(['is_rch',\n",
       "       'Applicable_Manufacturer_or_Applicable_GPO_Making_Payment_Country',\n",
       "       'Related_Product_Indicator', 'Change_Type',\n",
       "       'Covered_or_Noncovered_Indicator_2', 'Recipient_State',\n",
       "       'Indicate_Drug_or_Biological_or_Device_or_Medical_Supply_2',\n",
       "       'Applicable_Manufacturer_or_Applicable_GPO_Making_Payment_State',\n",
       "       'Indicate_Drug_or_Biological_or_Device_or_Medical_Supply_1',\n",
       "       'Total_Amount_of_Payment_USDollars', 'Day_of_week_of_Payment',\n",
       "       'Week_or_weekend_Payment', 'Day_of_month_of_Payment',\n",
       "       'Month_of_Payment'],\n",
       "      dtype='object')"
      ]
     },
     "execution_count": 67,
     "metadata": {},
     "output_type": "execute_result"
    }
   ],
   "source": [
    "df.columns"
   ]
  },
  {
   "cell_type": "code",
   "execution_count": 68,
   "metadata": {
    "collapsed": true
   },
   "outputs": [],
   "source": [
    "cont = ['Total_Amount_of_Payment_USDollars']\n",
    "\n",
    "cat = ['Applicable_Manufacturer_or_Applicable_GPO_Making_Payment_Country',\n",
    "       'Related_Product_Indicator', 'Change_Type',\n",
    "       'Covered_or_Noncovered_Indicator_2', 'Recipient_State',\n",
    "       'Indicate_Drug_or_Biological_or_Device_or_Medical_Supply_2',\n",
    "       'Applicable_Manufacturer_or_Applicable_GPO_Making_Payment_State',\n",
    "       'Indicate_Drug_or_Biological_or_Device_or_Medical_Supply_1', 'Day_of_week_of_Payment',\n",
    "       'Week_or_weekend_Payment', 'Day_of_month_of_Payment',\n",
    "       'Month_of_Payment']"
   ]
  },
  {
   "cell_type": "code",
   "execution_count": 69,
   "metadata": {},
   "outputs": [
    {
     "name": "stdout",
     "output_type": "stream",
     "text": [
      "12\n"
     ]
    }
   ],
   "source": [
    "print(len(cat))"
   ]
  },
  {
   "cell_type": "code",
   "execution_count": 70,
   "metadata": {},
   "outputs": [
    {
     "data": {
      "text/plain": [
       "Index(['is_rch',\n",
       "       'Applicable_Manufacturer_or_Applicable_GPO_Making_Payment_Country',\n",
       "       'Related_Product_Indicator', 'Change_Type',\n",
       "       'Covered_or_Noncovered_Indicator_2', 'Recipient_State',\n",
       "       'Indicate_Drug_or_Biological_or_Device_or_Medical_Supply_2',\n",
       "       'Applicable_Manufacturer_or_Applicable_GPO_Making_Payment_State',\n",
       "       'Indicate_Drug_or_Biological_or_Device_or_Medical_Supply_1',\n",
       "       'Total_Amount_of_Payment_USDollars', 'Day_of_week_of_Payment',\n",
       "       'Week_or_weekend_Payment', 'Day_of_month_of_Payment',\n",
       "       'Month_of_Payment'],\n",
       "      dtype='object')"
      ]
     },
     "execution_count": 70,
     "metadata": {},
     "output_type": "execute_result"
    }
   ],
   "source": [
    "df.columns"
   ]
  },
  {
   "cell_type": "code",
   "execution_count": 71,
   "metadata": {},
   "outputs": [
    {
     "data": {
      "text/plain": [
       "(9977, 14)"
      ]
     },
     "execution_count": 71,
     "metadata": {},
     "output_type": "execute_result"
    }
   ],
   "source": [
    "df.shape"
   ]
  },
  {
   "cell_type": "code",
   "execution_count": 72,
   "metadata": {
    "collapsed": true
   },
   "outputs": [],
   "source": [
    "df = df.replace(to_replace={var:np.NaN for var in cat},value=\"N/A\")"
   ]
  },
  {
   "cell_type": "code",
   "execution_count": 73,
   "metadata": {
    "collapsed": true
   },
   "outputs": [],
   "source": [
    "y = df['is_rch']\n",
    "df = df.drop(columns=['is_rch'])"
   ]
  },
  {
   "cell_type": "code",
   "execution_count": 74,
   "metadata": {},
   "outputs": [
    {
     "ename": "KeyError",
     "evalue": "'Physician_Primary_Type'",
     "output_type": "error",
     "traceback": [
      "\u001b[0;31m---------------------------------------------------------------------------\u001b[0m",
      "\u001b[0;31mKeyError\u001b[0m                                  Traceback (most recent call last)",
      "\u001b[0;32m<ipython-input-74-2c1b7de5052d>\u001b[0m in \u001b[0;36m<module>\u001b[0;34m()\u001b[0m\n\u001b[0;32m----> 1\u001b[0;31m \u001b[0mtemp\u001b[0m \u001b[0;34m=\u001b[0m \u001b[0mdf\u001b[0m\u001b[0;34m.\u001b[0m\u001b[0mgroupby\u001b[0m\u001b[0;34m(\u001b[0m\u001b[0;34m[\u001b[0m\u001b[0;34m'Physician_Primary_Type'\u001b[0m\u001b[0;34m,\u001b[0m \u001b[0;34m'is_rch'\u001b[0m\u001b[0;34m]\u001b[0m\u001b[0;34m)\u001b[0m\u001b[0;34m[\u001b[0m\u001b[0;34m'is_rch'\u001b[0m\u001b[0;34m]\u001b[0m\u001b[0;34m.\u001b[0m\u001b[0mcount\u001b[0m\u001b[0;34m(\u001b[0m\u001b[0;34m)\u001b[0m\u001b[0;34m.\u001b[0m\u001b[0munstack\u001b[0m\u001b[0;34m(\u001b[0m\u001b[0;36m1\u001b[0m\u001b[0;34m)\u001b[0m\u001b[0;34m\u001b[0m\u001b[0m\n\u001b[0m\u001b[1;32m      2\u001b[0m \u001b[0mtemp\u001b[0m\u001b[0;34m[\u001b[0m\u001b[0;36m0\u001b[0m\u001b[0;34m]\u001b[0m \u001b[0;34m=\u001b[0m \u001b[0mtemp\u001b[0m\u001b[0;34m[\u001b[0m\u001b[0;36m0\u001b[0m\u001b[0;34m]\u001b[0m\u001b[0;34m/\u001b[0m\u001b[0mtemp\u001b[0m\u001b[0;34m[\u001b[0m\u001b[0;36m0\u001b[0m\u001b[0;34m]\u001b[0m\u001b[0;34m.\u001b[0m\u001b[0msum\u001b[0m\u001b[0;34m(\u001b[0m\u001b[0;34m)\u001b[0m\u001b[0;34m\u001b[0m\u001b[0m\n\u001b[1;32m      3\u001b[0m \u001b[0mtemp\u001b[0m\u001b[0;34m[\u001b[0m\u001b[0;36m1\u001b[0m\u001b[0;34m]\u001b[0m \u001b[0;34m=\u001b[0m \u001b[0mtemp\u001b[0m\u001b[0;34m[\u001b[0m\u001b[0;36m1\u001b[0m\u001b[0;34m]\u001b[0m\u001b[0;34m/\u001b[0m\u001b[0mtemp\u001b[0m\u001b[0;34m[\u001b[0m\u001b[0;36m1\u001b[0m\u001b[0;34m]\u001b[0m\u001b[0;34m.\u001b[0m\u001b[0msum\u001b[0m\u001b[0;34m(\u001b[0m\u001b[0;34m)\u001b[0m\u001b[0;34m\u001b[0m\u001b[0m\n\u001b[1;32m      4\u001b[0m \u001b[0mtemp\u001b[0m\u001b[0;34m.\u001b[0m\u001b[0mplot\u001b[0m\u001b[0;34m(\u001b[0m\u001b[0mkind\u001b[0m\u001b[0;34m=\u001b[0m\u001b[0;34m'barh'\u001b[0m\u001b[0;34m,\u001b[0m \u001b[0mtitle\u001b[0m\u001b[0;34m=\u001b[0m\u001b[0;34m\"Distribution of `Covered_Recipient_Type` in each group\"\u001b[0m\u001b[0;34m)\u001b[0m\u001b[0;34m\u001b[0m\u001b[0m\n",
      "\u001b[0;32m~/anaconda3/lib/python3.6/site-packages/pandas/core/generic.py\u001b[0m in \u001b[0;36mgroupby\u001b[0;34m(self, by, axis, level, as_index, sort, group_keys, squeeze, observed, **kwargs)\u001b[0m\n\u001b[1;32m   6663\u001b[0m         return groupby(self, by=by, axis=axis, level=level, as_index=as_index,\n\u001b[1;32m   6664\u001b[0m                        \u001b[0msort\u001b[0m\u001b[0;34m=\u001b[0m\u001b[0msort\u001b[0m\u001b[0;34m,\u001b[0m \u001b[0mgroup_keys\u001b[0m\u001b[0;34m=\u001b[0m\u001b[0mgroup_keys\u001b[0m\u001b[0;34m,\u001b[0m \u001b[0msqueeze\u001b[0m\u001b[0;34m=\u001b[0m\u001b[0msqueeze\u001b[0m\u001b[0;34m,\u001b[0m\u001b[0;34m\u001b[0m\u001b[0m\n\u001b[0;32m-> 6665\u001b[0;31m                        observed=observed, **kwargs)\n\u001b[0m\u001b[1;32m   6666\u001b[0m \u001b[0;34m\u001b[0m\u001b[0m\n\u001b[1;32m   6667\u001b[0m     def asfreq(self, freq, method=None, how=None, normalize=False,\n",
      "\u001b[0;32m~/anaconda3/lib/python3.6/site-packages/pandas/core/groupby/groupby.py\u001b[0m in \u001b[0;36mgroupby\u001b[0;34m(obj, by, **kwds)\u001b[0m\n\u001b[1;32m   2150\u001b[0m         \u001b[0;32mraise\u001b[0m \u001b[0mTypeError\u001b[0m\u001b[0;34m(\u001b[0m\u001b[0;34m'invalid type: %s'\u001b[0m \u001b[0;34m%\u001b[0m \u001b[0mtype\u001b[0m\u001b[0;34m(\u001b[0m\u001b[0mobj\u001b[0m\u001b[0;34m)\u001b[0m\u001b[0;34m)\u001b[0m\u001b[0;34m\u001b[0m\u001b[0m\n\u001b[1;32m   2151\u001b[0m \u001b[0;34m\u001b[0m\u001b[0m\n\u001b[0;32m-> 2152\u001b[0;31m     \u001b[0;32mreturn\u001b[0m \u001b[0mklass\u001b[0m\u001b[0;34m(\u001b[0m\u001b[0mobj\u001b[0m\u001b[0;34m,\u001b[0m \u001b[0mby\u001b[0m\u001b[0;34m,\u001b[0m \u001b[0;34m**\u001b[0m\u001b[0mkwds\u001b[0m\u001b[0;34m)\u001b[0m\u001b[0;34m\u001b[0m\u001b[0m\n\u001b[0m\u001b[1;32m   2153\u001b[0m \u001b[0;34m\u001b[0m\u001b[0m\n\u001b[1;32m   2154\u001b[0m \u001b[0;34m\u001b[0m\u001b[0m\n",
      "\u001b[0;32m~/anaconda3/lib/python3.6/site-packages/pandas/core/groupby/groupby.py\u001b[0m in \u001b[0;36m__init__\u001b[0;34m(self, obj, keys, axis, level, grouper, exclusions, selection, as_index, sort, group_keys, squeeze, observed, **kwargs)\u001b[0m\n\u001b[1;32m    597\u001b[0m                                                     \u001b[0msort\u001b[0m\u001b[0;34m=\u001b[0m\u001b[0msort\u001b[0m\u001b[0;34m,\u001b[0m\u001b[0;34m\u001b[0m\u001b[0m\n\u001b[1;32m    598\u001b[0m                                                     \u001b[0mobserved\u001b[0m\u001b[0;34m=\u001b[0m\u001b[0mobserved\u001b[0m\u001b[0;34m,\u001b[0m\u001b[0;34m\u001b[0m\u001b[0m\n\u001b[0;32m--> 599\u001b[0;31m                                                     mutated=self.mutated)\n\u001b[0m\u001b[1;32m    600\u001b[0m \u001b[0;34m\u001b[0m\u001b[0m\n\u001b[1;32m    601\u001b[0m         \u001b[0mself\u001b[0m\u001b[0;34m.\u001b[0m\u001b[0mobj\u001b[0m \u001b[0;34m=\u001b[0m \u001b[0mobj\u001b[0m\u001b[0;34m\u001b[0m\u001b[0m\n",
      "\u001b[0;32m~/anaconda3/lib/python3.6/site-packages/pandas/core/groupby/groupby.py\u001b[0m in \u001b[0;36m_get_grouper\u001b[0;34m(obj, key, axis, level, sort, observed, mutated, validate)\u001b[0m\n\u001b[1;32m   3289\u001b[0m                 \u001b[0min_axis\u001b[0m\u001b[0;34m,\u001b[0m \u001b[0mname\u001b[0m\u001b[0;34m,\u001b[0m \u001b[0mlevel\u001b[0m\u001b[0;34m,\u001b[0m \u001b[0mgpr\u001b[0m \u001b[0;34m=\u001b[0m \u001b[0;32mFalse\u001b[0m\u001b[0;34m,\u001b[0m \u001b[0;32mNone\u001b[0m\u001b[0;34m,\u001b[0m \u001b[0mgpr\u001b[0m\u001b[0;34m,\u001b[0m \u001b[0;32mNone\u001b[0m\u001b[0;34m\u001b[0m\u001b[0m\n\u001b[1;32m   3290\u001b[0m             \u001b[0;32melse\u001b[0m\u001b[0;34m:\u001b[0m\u001b[0;34m\u001b[0m\u001b[0m\n\u001b[0;32m-> 3291\u001b[0;31m                 \u001b[0;32mraise\u001b[0m \u001b[0mKeyError\u001b[0m\u001b[0;34m(\u001b[0m\u001b[0mgpr\u001b[0m\u001b[0;34m)\u001b[0m\u001b[0;34m\u001b[0m\u001b[0m\n\u001b[0m\u001b[1;32m   3292\u001b[0m         \u001b[0;32melif\u001b[0m \u001b[0misinstance\u001b[0m\u001b[0;34m(\u001b[0m\u001b[0mgpr\u001b[0m\u001b[0;34m,\u001b[0m \u001b[0mGrouper\u001b[0m\u001b[0;34m)\u001b[0m \u001b[0;32mand\u001b[0m \u001b[0mgpr\u001b[0m\u001b[0;34m.\u001b[0m\u001b[0mkey\u001b[0m \u001b[0;32mis\u001b[0m \u001b[0;32mnot\u001b[0m \u001b[0;32mNone\u001b[0m\u001b[0;34m:\u001b[0m\u001b[0;34m\u001b[0m\u001b[0m\n\u001b[1;32m   3293\u001b[0m             \u001b[0;31m# Add key to exclusions\u001b[0m\u001b[0;34m\u001b[0m\u001b[0;34m\u001b[0m\u001b[0m\n",
      "\u001b[0;31mKeyError\u001b[0m: 'Physician_Primary_Type'"
     ]
    }
   ],
   "source": [
    "temp = df.groupby(['Physician_Primary_Type', 'is_rch'])['is_rch'].count().unstack(1)\n",
    "temp[0] = temp[0]/temp[0].sum()\n",
    "temp[1] = temp[1]/temp[1].sum()\n",
    "temp.plot(kind='barh', title=\"Distribution of `Covered_Recipient_Type` in each group\")"
   ]
  },
  {
   "cell_type": "code",
   "execution_count": 75,
   "metadata": {
    "collapsed": true
   },
   "outputs": [],
   "source": [
    "from sklearn.model_selection import train_test_split\n",
    "\n",
    "train, test, y_train, y_test = train_test_split(df, \n",
    "                                                y, test_size=.2, \n",
    "                                                random_state=0, \n",
    "                                                stratify=y)"
   ]
  },
  {
   "cell_type": "code",
   "execution_count": 153,
   "metadata": {},
   "outputs": [
    {
     "data": {
      "text/plain": [
       "Index(['is_rch', 'Recipient_Primary_Business_Street_Address_Line2',\n",
       "       'Submitting_Applicable_Manufacturer_or_Applicable_GPO_Name',\n",
       "       'Recipient_City', 'Payment_Publication_Date',\n",
       "       'Name_of_Drug_or_Biological_or_Device_or_Medical_Supply_1',\n",
       "       'Related_Product_Indicator', 'Physician_Primary_Type',\n",
       "       'Recipient_Primary_Business_Street_Address_Line1', 'Change_Type',\n",
       "       'Physician_Middle_Name', 'Product_Category_or_Therapeutic_Area_2',\n",
       "       'Associated_Drug_or_Biological_NDC_2', 'Recipient_State', 'Record_ID',\n",
       "       'Physician_Profile_ID', 'Recipient_Zip_Code',\n",
       "       'Applicable_Manufacturer_or_Applicable_GPO_Making_Payment_Name',\n",
       "       'Name_of_Drug_or_Biological_or_Device_or_Medical_Supply_2',\n",
       "       'Physician_First_Name', 'Program_Year', 'Physician_Last_Name',\n",
       "       'Applicable_Manufacturer_or_Applicable_GPO_Making_Payment_State',\n",
       "       'Associated_Drug_or_Biological_NDC_1', 'Covered_Recipient_Type',\n",
       "       'Indicate_Drug_or_Biological_or_Device_or_Medical_Supply_2',\n",
       "       'Applicable_Manufacturer_or_Applicable_GPO_Making_Payment_ID',\n",
       "       'Form_of_Payment_or_Transfer_of_Value',\n",
       "       'Indicate_Drug_or_Biological_or_Device_or_Medical_Supply_1',\n",
       "       'Total_Amount_of_Payment_USDollars',\n",
       "       'Product_Category_or_Therapeutic_Area_1',\n",
       "       'Applicable_Manufacturer_or_Applicable_GPO_Making_Payment_Country',\n",
       "       'Covered_or_Noncovered_Indicator_2', 'Delay_in_Publication_Indicator',\n",
       "       'Day_of_week_of_Payment', 'Week_or_weekend_Payment',\n",
       "       'Day_of_month_of_Payment', 'Month_of_Payment', 'Physician_Specialty_1',\n",
       "       'Physician_Specialty_2'],\n",
       "      dtype='object')"
      ]
     },
     "execution_count": 153,
     "metadata": {},
     "output_type": "execute_result"
    }
   ],
   "source": [
    "train.columns"
   ]
  },
  {
   "cell_type": "code",
   "execution_count": 78,
   "metadata": {},
   "outputs": [
    {
     "ename": "NameError",
     "evalue": "name 'grid' is not defined",
     "output_type": "error",
     "traceback": [
      "\u001b[0;31m---------------------------------------------------------------------------\u001b[0m",
      "\u001b[0;31mNameError\u001b[0m                                 Traceback (most recent call last)",
      "\u001b[0;32m<ipython-input-78-b187860bc9f0>\u001b[0m in \u001b[0;36m<module>\u001b[0;34m()\u001b[0m\n\u001b[1;32m     34\u001b[0m \u001b[0;31m#grid = GridSearchCV(pipe, params, scoring=(\"roc_auc\", \"average_precision\"),refit=\"roc_auc\", n_jobs=-1, cv=5)\u001b[0m\u001b[0;34m\u001b[0m\u001b[0;34m\u001b[0m\u001b[0m\n\u001b[1;32m     35\u001b[0m \u001b[0mpipe\u001b[0m\u001b[0;34m.\u001b[0m\u001b[0mfit\u001b[0m\u001b[0;34m(\u001b[0m\u001b[0mtrain\u001b[0m\u001b[0;34m,\u001b[0m \u001b[0my_train\u001b[0m\u001b[0;34m)\u001b[0m\u001b[0;34m\u001b[0m\u001b[0m\n\u001b[0;32m---> 36\u001b[0;31m \u001b[0mprint\u001b[0m\u001b[0;34m(\u001b[0m\u001b[0;34m'The xgboost average roc auc is {0:.3f}'\u001b[0m\u001b[0;34m.\u001b[0m\u001b[0mformat\u001b[0m\u001b[0;34m(\u001b[0m\u001b[0mnp\u001b[0m\u001b[0;34m.\u001b[0m\u001b[0mmean\u001b[0m\u001b[0;34m(\u001b[0m\u001b[0mgrid\u001b[0m\u001b[0;34m.\u001b[0m\u001b[0mcv_results_\u001b[0m\u001b[0;34m[\u001b[0m\u001b[0;34m'mean_test_roc_auc'\u001b[0m\u001b[0;34m]\u001b[0m\u001b[0;34m)\u001b[0m\u001b[0;34m)\u001b[0m\u001b[0;34m)\u001b[0m\u001b[0;34m\u001b[0m\u001b[0m\n\u001b[0m\u001b[1;32m     37\u001b[0m \u001b[0mprint\u001b[0m\u001b[0;34m(\u001b[0m\u001b[0;34m'The xgboost average precision is {0:.3f}'\u001b[0m\u001b[0;34m.\u001b[0m\u001b[0mformat\u001b[0m\u001b[0;34m(\u001b[0m\u001b[0mnp\u001b[0m\u001b[0;34m.\u001b[0m\u001b[0mmean\u001b[0m\u001b[0;34m(\u001b[0m\u001b[0mgrid\u001b[0m\u001b[0;34m.\u001b[0m\u001b[0mcv_results_\u001b[0m\u001b[0;34m[\u001b[0m\u001b[0;34m'mean_test_average_precision'\u001b[0m\u001b[0;34m]\u001b[0m\u001b[0;34m)\u001b[0m\u001b[0;34m)\u001b[0m\u001b[0;34m)\u001b[0m\u001b[0;34m\u001b[0m\u001b[0m\n\u001b[1;32m     38\u001b[0m \u001b[0mprint\u001b[0m\u001b[0;34m(\u001b[0m\u001b[0;34m'The best parameters are:'\u001b[0m \u001b[0;34m+\u001b[0m \u001b[0mstr\u001b[0m\u001b[0;34m(\u001b[0m\u001b[0mgrid\u001b[0m\u001b[0;34m.\u001b[0m\u001b[0mbest_params_\u001b[0m\u001b[0;34m)\u001b[0m\u001b[0;34m)\u001b[0m\u001b[0;34m\u001b[0m\u001b[0m\n",
      "\u001b[0;31mNameError\u001b[0m: name 'grid' is not defined"
     ]
    }
   ],
   "source": [
    "import xgboost as xgb\n",
    "from sklearn.model_selection import GridSearchCV\n",
    "from sklearn.pipeline import Pipeline\n",
    "from sklearn.preprocessing import RobustScaler\n",
    "from sklearn.preprocessing import OneHotEncoder\n",
    "from sklearn.compose import make_column_transformer\n",
    "from sklearn.linear_model import LogisticRegression\n",
    "from sklearn.pipeline import make_pipeline\n",
    "from sklearn.model_selection import cross_validate\n",
    "\n",
    "# TO avoid having crashing kernels with xgBoost\n",
    "import os\n",
    "os.environ['KMP_DUPLICATE_LIB_OK']='True'\n",
    "\n",
    "encoder = OneHotEncoder(categories=[[*df[var].unique(), \"N/A\"] for var in cat])\n",
    "preprocess = make_column_transformer((RobustScaler(), cont), \n",
    "                                     (encoder, cat))\n",
    "#pipe = make_pipeline(preprocess,xgb.XGBClassifier())\n",
    "pipe = Pipeline(steps=[('preprocessor', preprocess),\n",
    "                (\"classifier\",xgb.XGBClassifier())])\n",
    "\n",
    "params1 = {'classifier__learning_rate' : [0.0001, 0.001, 0.01, 0.1, 0.2, 0.3],\n",
    "          'classifier__n_estimators': [200],\n",
    "          'classifier__max_depth' : [3,6,9]\n",
    "    \n",
    "}\n",
    "params = {'classifier__learning_rate' : [ 0.1],\n",
    "          'classifier__n_estimators': [200],\n",
    "          'classifier__max_depth' : [6]\n",
    "    \n",
    "}\n",
    "\n",
    "\n",
    "#grid = GridSearchCV(pipe, params, scoring=(\"roc_auc\", \"average_precision\"),refit=\"roc_auc\", n_jobs=-1, cv=5)\n",
    "pipe.fit(train, y_train)\n",
    "print('The xgboost average roc auc is {0:.3f}'.format(np.mean(grid.cv_results_['mean_test_roc_auc'])))\n",
    "print('The xgboost average precision is {0:.3f}'.format(np.mean(grid.cv_results_['mean_test_average_precision'])))\n",
    "print('The best parameters are:' + str(grid.best_params_))"
   ]
  },
  {
   "cell_type": "code",
   "execution_count": 79,
   "metadata": {
    "collapsed": true
   },
   "outputs": [],
   "source": [
    "from sklearn.metrics import average_precision_score\n",
    "from sklearn.metrics import roc_auc_score\n",
    "import xgboost as xgb\n",
    "from sklearn.model_selection import GridSearchCV\n",
    "from sklearn.pipeline import Pipeline\n",
    "from sklearn.preprocessing import RobustScaler\n",
    "from sklearn.preprocessing import OneHotEncoder\n",
    "from sklearn.compose import make_column_transformer\n",
    "from sklearn.linear_model import LogisticRegression\n",
    "from sklearn.pipeline import make_pipeline\n",
    "from sklearn.model_selection import cross_validate\n",
    "import os\n",
    "os.environ['KMP_DUPLICATE_LIB_OK']='True'"
   ]
  },
  {
   "cell_type": "code",
   "execution_count": 159,
   "metadata": {},
   "outputs": [
    {
     "name": "stderr",
     "output_type": "stream",
     "text": [
      "/Users/arnaudstiegler/anaconda3/lib/python3.6/site-packages/sklearn/linear_model/logistic.py:433: FutureWarning: Default solver will be changed to 'lbfgs' in 0.22. Specify a solver to silence this warning.\n",
      "  FutureWarning)\n",
      "/Users/arnaudstiegler/anaconda3/lib/python3.6/site-packages/sklearn/linear_model/logistic.py:433: FutureWarning: Default solver will be changed to 'lbfgs' in 0.22. Specify a solver to silence this warning.\n",
      "  FutureWarning)\n",
      "/Users/arnaudstiegler/anaconda3/lib/python3.6/site-packages/sklearn/linear_model/logistic.py:433: FutureWarning: Default solver will be changed to 'lbfgs' in 0.22. Specify a solver to silence this warning.\n",
      "  FutureWarning)\n"
     ]
    },
    {
     "name": "stdout",
     "output_type": "stream",
     "text": [
      "removed feature is Applicable_Manufacturer_or_Applicable_GPO_Making_Payment_Country\n",
      "The xgboost roc auc on the test set is 0.985\n",
      "The xgboost average precision is 0.972\n",
      "removed feature is Related_Product_Indicator\n",
      "The xgboost roc auc on the test set is 0.984\n",
      "The xgboost average precision is 0.971\n",
      "removed feature is Change_Type\n",
      "The xgboost roc auc on the test set is 0.985\n",
      "The xgboost average precision is 0.972\n",
      "removed feature is Covered_or_Noncovered_Indicator_2\n",
      "The xgboost roc auc on the test set is 0.985\n",
      "The xgboost average precision is 0.973\n",
      "removed feature is Recipient_State\n",
      "The xgboost roc auc on the test set is 0.987\n",
      "The xgboost average precision is 0.975\n"
     ]
    },
    {
     "name": "stderr",
     "output_type": "stream",
     "text": [
      "/Users/arnaudstiegler/anaconda3/lib/python3.6/site-packages/sklearn/linear_model/logistic.py:433: FutureWarning: Default solver will be changed to 'lbfgs' in 0.22. Specify a solver to silence this warning.\n",
      "  FutureWarning)\n",
      "/Users/arnaudstiegler/anaconda3/lib/python3.6/site-packages/sklearn/linear_model/logistic.py:433: FutureWarning: Default solver will be changed to 'lbfgs' in 0.22. Specify a solver to silence this warning.\n",
      "  FutureWarning)\n",
      "/Users/arnaudstiegler/anaconda3/lib/python3.6/site-packages/sklearn/linear_model/logistic.py:433: FutureWarning: Default solver will be changed to 'lbfgs' in 0.22. Specify a solver to silence this warning.\n",
      "  FutureWarning)\n"
     ]
    },
    {
     "name": "stdout",
     "output_type": "stream",
     "text": [
      "removed feature is Indicate_Drug_or_Biological_or_Device_or_Medical_Supply_2\n",
      "The xgboost roc auc on the test set is 0.985\n",
      "The xgboost average precision is 0.972\n",
      "removed feature is Applicable_Manufacturer_or_Applicable_GPO_Making_Payment_State\n",
      "The xgboost roc auc on the test set is 0.985\n",
      "The xgboost average precision is 0.974\n",
      "removed feature is Indicate_Drug_or_Biological_or_Device_or_Medical_Supply_1\n",
      "The xgboost roc auc on the test set is 0.983\n",
      "The xgboost average precision is 0.970\n"
     ]
    },
    {
     "name": "stderr",
     "output_type": "stream",
     "text": [
      "/Users/arnaudstiegler/anaconda3/lib/python3.6/site-packages/sklearn/linear_model/logistic.py:433: FutureWarning: Default solver will be changed to 'lbfgs' in 0.22. Specify a solver to silence this warning.\n",
      "  FutureWarning)\n",
      "/Users/arnaudstiegler/anaconda3/lib/python3.6/site-packages/sklearn/linear_model/logistic.py:433: FutureWarning: Default solver will be changed to 'lbfgs' in 0.22. Specify a solver to silence this warning.\n",
      "  FutureWarning)\n",
      "/Users/arnaudstiegler/anaconda3/lib/python3.6/site-packages/sklearn/linear_model/logistic.py:433: FutureWarning: Default solver will be changed to 'lbfgs' in 0.22. Specify a solver to silence this warning.\n",
      "  FutureWarning)\n",
      "/Users/arnaudstiegler/anaconda3/lib/python3.6/site-packages/sklearn/linear_model/logistic.py:433: FutureWarning: Default solver will be changed to 'lbfgs' in 0.22. Specify a solver to silence this warning.\n",
      "  FutureWarning)\n"
     ]
    },
    {
     "name": "stdout",
     "output_type": "stream",
     "text": [
      "removed feature is Day_of_week_of_Payment\n",
      "The xgboost roc auc on the test set is 0.985\n",
      "The xgboost average precision is 0.973\n",
      "removed feature is Week_or_weekend_Payment\n",
      "The xgboost roc auc on the test set is 0.985\n",
      "The xgboost average precision is 0.973\n"
     ]
    },
    {
     "name": "stderr",
     "output_type": "stream",
     "text": [
      "/Users/arnaudstiegler/anaconda3/lib/python3.6/site-packages/sklearn/linear_model/logistic.py:433: FutureWarning: Default solver will be changed to 'lbfgs' in 0.22. Specify a solver to silence this warning.\n",
      "  FutureWarning)\n",
      "/Users/arnaudstiegler/anaconda3/lib/python3.6/site-packages/sklearn/linear_model/logistic.py:433: FutureWarning: Default solver will be changed to 'lbfgs' in 0.22. Specify a solver to silence this warning.\n",
      "  FutureWarning)\n"
     ]
    },
    {
     "name": "stdout",
     "output_type": "stream",
     "text": [
      "removed feature is Day_of_month_of_Payment\n",
      "The xgboost roc auc on the test set is 0.986\n",
      "The xgboost average precision is 0.975\n",
      "removed feature is Month_of_Payment\n",
      "The xgboost roc auc on the test set is 0.986\n",
      "The xgboost average precision is 0.976\n",
      "removed feature is Physician_Primary_Type\n",
      "The xgboost roc auc on the test set is 0.913\n",
      "The xgboost average precision is 0.784\n"
     ]
    },
    {
     "name": "stderr",
     "output_type": "stream",
     "text": [
      "/Users/arnaudstiegler/anaconda3/lib/python3.6/site-packages/sklearn/linear_model/logistic.py:433: FutureWarning: Default solver will be changed to 'lbfgs' in 0.22. Specify a solver to silence this warning.\n",
      "  FutureWarning)\n"
     ]
    }
   ],
   "source": [
    "col_name = ['Change_Type', 'Covered_or_Noncovered_Indicator_2',\n",
    "       'Indicate_Drug_or_Biological_or_Device_or_Medical_Supply_2',\n",
    "       'Month_of_Payment', 'Total_Amount_of_Payment_USDollars',\n",
    "       'Day_of_month_of_Payment', 'Day_of_week_of_Payment',\n",
    "       'Week_or_weekend_Payment', 'Physician_Payment_Counts',\n",
    "       'Indicate_Drug_or_Biological_or_Device_or_Medical_Supply_1']\n",
    "\n",
    "for col in cat:\n",
    "    temp = cat.copy()\n",
    "    temp.remove(col)\n",
    "    encoder = OneHotEncoder(categories=[[*df[var].unique(), \"N/A\"] for var in temp])\n",
    "    preprocess = make_column_transformer((RobustScaler(), cont), \n",
    "                                     (encoder, temp))\n",
    "    pipe = Pipeline(steps=[('preprocessor', preprocess),\n",
    "                (\"classifier\",LogisticRegression())])\n",
    "    new_train = train.drop([col],axis=1)\n",
    "    pipe.fit(train,y_train)\n",
    "    pipe_ap = average_precision_score(y_test, pipe.predict_proba(test)[:, 1])\n",
    "    pipe_ra = roc_auc_score(y_test, pipe.predict_proba(test)[:, 1])\n",
    "    print(\"removed feature is \" + col)\n",
    "    print('The xgboost roc auc on the test set is {0:.3f}'.format(pipe_ra))\n",
    "    print('The xgboost average precision is {0:.3f}'.format(pipe_ap))"
   ]
  },
  {
   "cell_type": "code",
   "execution_count": null,
   "metadata": {
    "collapsed": true
   },
   "outputs": [],
   "source": [
    "encoder = OneHotEncoder(categories=[[*df[var].unique(), \"N/A\"] for var in cat])\n",
    "preprocess = make_column_transformer((encoder, cat))\n",
    "pipe = Pipeline(steps=[('preprocessor', preprocess),\n",
    "                (\"classifier\",xgb.XGBClassifier())])\n",
    "\n",
    "pipe.fit(train,y_train)\n",
    "pipe_ap = average_precision_score(y_test, pipe.predict_proba(test)[:, 1])\n",
    "pipe_ra = roc_auc_score(y_test, pipe.predict_proba(test)[:, 1])\n",
    "\n",
    "print('The xgboost roc auc on the test set is {0:.3f}'.format(pipe_ra))\n",
    "print('The xgboost average precision is {0:.3f}'.format(pipe_ap))"
   ]
  },
  {
   "cell_type": "code",
   "execution_count": null,
   "metadata": {
    "collapsed": true
   },
   "outputs": [],
   "source": [
    "train.columns"
   ]
  },
  {
   "cell_type": "code",
   "execution_count": 80,
   "metadata": {},
   "outputs": [
    {
     "name": "stdout",
     "output_type": "stream",
     "text": [
      "Feature added is Related_Product_Indicator\n",
      "The xgboost roc auc on the test set is 0.942\n",
      "The xgboost average precision is 0.819\n",
      "Feature added is Change_Type\n",
      "The xgboost roc auc on the test set is 0.942\n",
      "The xgboost average precision is 0.814\n",
      "Feature added is Covered_or_Noncovered_Indicator_2\n",
      "The xgboost roc auc on the test set is 0.943\n",
      "The xgboost average precision is 0.813\n",
      "Feature added is Recipient_State\n",
      "The xgboost roc auc on the test set is 0.947\n",
      "The xgboost average precision is 0.825\n",
      "Feature added is Indicate_Drug_or_Biological_or_Device_or_Medical_Supply_2\n",
      "The xgboost roc auc on the test set is 0.948\n",
      "The xgboost average precision is 0.827\n",
      "Feature added is Applicable_Manufacturer_or_Applicable_GPO_Making_Payment_State\n",
      "The xgboost roc auc on the test set is 0.964\n",
      "The xgboost average precision is 0.878\n",
      "Feature added is Indicate_Drug_or_Biological_or_Device_or_Medical_Supply_1\n",
      "The xgboost roc auc on the test set is 0.971\n",
      "The xgboost average precision is 0.890\n",
      "Feature added is Day_of_week_of_Payment\n",
      "The xgboost roc auc on the test set is 0.970\n",
      "The xgboost average precision is 0.892\n",
      "Feature added is Week_or_weekend_Payment\n",
      "The xgboost roc auc on the test set is 0.970\n",
      "The xgboost average precision is 0.892\n",
      "Feature added is Day_of_month_of_Payment\n",
      "The xgboost roc auc on the test set is 0.970\n",
      "The xgboost average precision is 0.892\n",
      "Feature added is Month_of_Payment\n",
      "The xgboost roc auc on the test set is 0.971\n",
      "The xgboost average precision is 0.893\n"
     ]
    }
   ],
   "source": [
    "cat_temp = ['Applicable_Manufacturer_or_Applicable_GPO_Making_Payment_Country']\n",
    "\n",
    "#print(\"Result with only the continuous variable\")\n",
    "#encoder = OneHotEncoder(categories=[[*df[var].unique(), \"N/A\"] for var in cat_temp])\n",
    "#preprocess = make_column_transformer((RobustScaler(), cont),\n",
    "#                                         (encoder, cat_temp))\n",
    "#pipe = Pipeline(steps=[('preprocessor', preprocess),\n",
    "#                    (\"classifier\", xgb.XGBClassifier())])\n",
    "#train_temp = train[cont]\n",
    "#test_temp = test[cat_temp+cont]\n",
    "#pipe.fit(train_temp,y_train)\n",
    "#pipe_ap = average_precision_score(y_test, pipe.predict_proba(test_temp)[:, 1])\n",
    "#pipe_ra = roc_auc_score(y_test, pipe.predict_proba(test_temp)[:, 1])\n",
    "#print('The xgboost roc auc on the test set is {0:.3f}'.format(pipe_ra))\n",
    "#print('The xgboost average precision is {0:.3f}'.format(pipe_ap))\n",
    "\n",
    "for col in cat[1:]:\n",
    "    cat_temp.append(col)\n",
    "    print(\"Feature added is \" + col)\n",
    "    encoder = OneHotEncoder(categories=[[*df[var].unique(), \"N/A\"] for var in cat_temp])\n",
    "    preprocess = make_column_transformer((RobustScaler(), cont),(encoder, cat_temp))\n",
    "    pipe = Pipeline(steps=[('preprocessor', preprocess),\n",
    "                    (\"classifier\", xgb.XGBClassifier())])\n",
    "    train_temp = train[cat_temp+cont]\n",
    "    test_temp = test[cat_temp+cont]\n",
    "    pipe.fit(train_temp,y_train)\n",
    "    pipe_ap = average_precision_score(y_test, pipe.predict_proba(test_temp)[:, 1])\n",
    "    pipe_ra = roc_auc_score(y_test, pipe.predict_proba(test_temp)[:, 1])\n",
    "    print('The xgboost roc auc on the test set is {0:.3f}'.format(pipe_ra))\n",
    "    print('The xgboost average precision is {0:.3f}'.format(pipe_ap))"
   ]
  },
  {
   "cell_type": "code",
   "execution_count": null,
   "metadata": {
    "collapsed": true
   },
   "outputs": [],
   "source": [
    "cat_col_sample = ['Physician_Primary_Type',\n",
    "       'Indicate_Drug_or_Biological_or_Device_or_Medical_Supply_2',\n",
    "       'Indicate_Drug_or_Biological_or_Device_or_Medical_Supply_1']\n",
    "\n",
    "encoder = OneHotEncoder(categories=[[*df[var].unique(), \"N/A\"] for var in cat_col_sample])\n",
    "preprocess = make_column_transformer((RobustScaler(), cont),(encoder, cat_col_sample))\n",
    "pipe = Pipeline(steps=[('preprocessor', preprocess),\n",
    "                    (\"classifier\", xgb.XGBClassifier())])\n",
    "train_temp = train[cat_col_sample+cont]\n",
    "test_temp = test[cat_col_sample+cont]\n",
    "pipe.fit(train_temp,y_train)\n",
    "pipe_ap = average_precision_score(y_test, pipe.predict_proba(test_temp)[:, 1])\n",
    "pipe_ra = roc_auc_score(y_test, pipe.predict_proba(test_temp)[:, 1])\n",
    "print('The xgboost roc auc on the test set is {0:.3f}'.format(pipe_ra))\n",
    "print('The xgboost average precision is {0:.3f}'.format(pipe_ap))"
   ]
  },
  {
   "cell_type": "code",
   "execution_count": null,
   "metadata": {
    "collapsed": true
   },
   "outputs": [],
   "source": [
    "df.columns"
   ]
  },
  {
   "cell_type": "code",
   "execution_count": null,
   "metadata": {
    "collapsed": true
   },
   "outputs": [],
   "source": []
  },
  {
   "cell_type": "code",
   "execution_count": null,
   "metadata": {
    "collapsed": true
   },
   "outputs": [],
   "source": [
    "import seaborn as sns\n",
    "sns.set(rc={'figure.figsize':(11.7,8.27)})\n",
    "ax = sns.countplot(x=\"Physician_Specialty_1\", hue='is_rch', data=df)"
   ]
  },
  {
   "cell_type": "code",
   "execution_count": null,
   "metadata": {
    "collapsed": true
   },
   "outputs": [],
   "source": [
    "import seaborn as sns\n",
    "\n",
    "sns.set(rc={'figure.figsize':(11.7,8.27)})\n",
    "ax = sns.countplot(x=\"Physician_Specialty_2\", hue='is_rch', data=df)"
   ]
  },
  {
   "cell_type": "code",
   "execution_count": null,
   "metadata": {
    "collapsed": true
   },
   "outputs": [],
   "source": [
    "import seaborn as sns\n",
    "target_0 = df.loc[df['is_rch'] == 0]\n",
    "target_1 = df.loc[df['is_rch'] == 1]\n",
    "\n",
    "sns.set(rc={'figure.figsize':(15,10)})\n",
    "sns.distplot(target_0[['Total_Amount_of_Payment_USDollars']], hist=False, rug=True)\n",
    "sns.distplot(target_1[['Total_Amount_of_Payment_USDollars']], hist=False, rug=True)"
   ]
  },
  {
   "cell_type": "code",
   "execution_count": null,
   "metadata": {
    "collapsed": true
   },
   "outputs": [],
   "source": [
    "# Assign colors for each airline and the names\n",
    "colors = ['#E69F00', '#56B4E9']\n",
    "names = ['Not Research', 'Research']\n",
    "         \n",
    "# Make the histogram using a list of lists\n",
    "# Normalize the flights and assign colors and names\n",
    "plt.hist([list(target_0[['Total_Amount_of_Payment_USDollars']]),list(target_1[['Total_Amount_of_Payment_USDollars']])],\n",
    "         color = colors, label=names)\n",
    "\n",
    "# Plot formatting\n",
    "plt.legend()\n",
    "plt.xlabel('Delay (min)')\n",
    "plt.ylabel('Normalized Flights')\n",
    "plt.title('Side-by-Side Histogram with Multiple Airlines')"
   ]
  },
  {
   "cell_type": "code",
   "execution_count": null,
   "metadata": {
    "collapsed": true
   },
   "outputs": [],
   "source": [
    "from sklearn.metrics import average_precision_score\n",
    "from sklearn.metrics import roc_auc_score\n",
    "\n",
    "#tuned_pipe = grid.best_estimator_\n",
    "pipe.fit(train,y_train)\n",
    "pipe_ap = average_precision_score(y_test, tuned_pipe.predict_proba(test)[:, 1])\n",
    "pipe_ra = roc_auc_score(y_test, tuned_pipe.predict_proba(test)[:, 1])\n",
    "\n",
    "print('The xgboost roc auc on the test set is {0:.3f}'.format(pipe_ra))\n",
    "print('The xgboost average precision is {0:.3f}'.format(pipe_ap))"
   ]
  },
  {
   "cell_type": "code",
   "execution_count": null,
   "metadata": {
    "collapsed": true
   },
   "outputs": [],
   "source": [
    "df.corr()"
   ]
  },
  {
   "cell_type": "code",
   "execution_count": 161,
   "metadata": {},
   "outputs": [
    {
     "name": "stdout",
     "output_type": "stream",
     "text": [
      "The xgboost roc auc on the test set is 0.996\n",
      "The xgboost average precision is 0.986\n"
     ]
    },
    {
     "data": {
      "text/plain": [
       "<BarContainer object of 196 artists>"
      ]
     },
     "execution_count": 161,
     "metadata": {},
     "output_type": "execute_result"
    },
    {
     "data": {
      "image/png": "[encoded data removed]",
      "text/plain": [
       "<Figure size 1080x720 with 1 Axes>"
      ]
     },
     "metadata": {
      "needs_background": "light"
     },
     "output_type": "display_data"
    }
   ],
   "source": [
    "encoder = OneHotEncoder(categories=[[*df[var].unique(), \"N/A\"] for var in cat])\n",
    "preprocess = make_column_transformer((RobustScaler(), cont),(encoder, cat))\n",
    "pipe = Pipeline(steps=[('preprocessor', preprocess),\n",
    "                (\"classifier\",xgb.XGBClassifier())])\n",
    "\n",
    "pipe.fit(train,y_train)\n",
    "pipe_ap = average_precision_score(y_test, pipe.predict_proba(test)[:, 1])\n",
    "pipe_ra = roc_auc_score(y_test, pipe.predict_proba(test)[:, 1])\n",
    "print('The xgboost roc auc on the test set is {0:.3f}'.format(pipe_ra))\n",
    "print('The xgboost average precision is {0:.3f}'.format(pipe_ap))\n",
    "plt.figure(figsize=(15,10))\n",
    "plt.bar(range(len(pipe.named_steps['classifier'].feature_importances_)), pipe.named_steps['classifier'].feature_importances_)"
   ]
  },
  {
   "cell_type": "code",
   "execution_count": null,
   "metadata": {
    "collapsed": true
   },
   "outputs": [],
   "source": [
    "pipe.named_steps['classifier'].feature_importances_"
   ]
  },
  {
   "cell_type": "code",
   "execution_count": null,
   "metadata": {
    "collapsed": true
   },
   "outputs": [],
   "source": []
  }
 ],
 "metadata": {
  "kernelspec": {
   "display_name": "Python 3",
   "language": "python",
   "name": "python3"
  },
  "language_info": {
   "codemirror_mode": {
    "name": "ipython",
    "version": 3
   },
   "file_extension": ".py",
   "mimetype": "text/x-python",
   "name": "python",
   "nbconvert_exporter": "python",
   "pygments_lexer": "ipython3",
   "version": "3.6.2"
  }
 },
 "nbformat": 4,
 "nbformat_minor": 2
}
