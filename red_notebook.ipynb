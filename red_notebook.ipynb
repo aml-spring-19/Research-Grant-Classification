{
 "cells": [
  {
   "cell_type": "markdown",
   "metadata": {},
   "source": [
    "# Homework 3"
   ]
  },
  {
   "cell_type": "code",
   "execution_count": 1,
   "metadata": {
    "collapsed": true
   },
   "outputs": [],
   "source": [
    "import numpy as np\n",
    "import pandas as pd\n",
    "import matplotlib.pyplot as plt"
   ]
  },
  {
   "cell_type": "code",
   "execution_count": 2,
   "metadata": {
    "collapsed": true
   },
   "outputs": [],
   "source": [
    "%matplotlib inline"
   ]
  },
  {
   "cell_type": "markdown",
   "metadata": {},
   "source": [
    "## Task 1 Identify Features"
   ]
  },
  {
   "cell_type": "markdown",
   "metadata": {},
   "source": [
    "### Assemble a dataset consisting of features and target (for example in a dataframe or in twoarrays X and y). What features are relevant for the prediction task? What features should be excluded because they leak the target information? Show visualizations or statistics to support your selection."
   ]
  },
  {
   "cell_type": "markdown",
   "metadata": {},
   "source": [
    "Let us load the two data files (each contain records of one class):"
   ]
  },
  {
   "cell_type": "code",
   "execution_count": 3,
   "metadata": {},
   "outputs": [
    {
     "name": "stderr",
     "output_type": "stream",
     "text": [
      "/Users/arnaudstiegler/anaconda3/lib/python3.6/site-packages/IPython/core/interactiveshell.py:2698: DtypeWarning: Columns (4,7,9,11,14,16,17,21,22,23,24,28,35,36,37,40,41,42,43,52,53,54,55,56,57,58,59,60,61,62,63,64,65,66,67,68,69,70,71,72) have mixed types. Specify dtype option on import or set low_memory=False.\n",
      "  interactivity=interactivity, compiler=compiler, result=result)\n"
     ]
    }
   ],
   "source": [
    "df_gen = pd.read_csv(\"data/OP_DTL_GNRL_PGYR2017_P01182019.csv\")"
   ]
  },
  {
   "cell_type": "code",
   "execution_count": 4,
   "metadata": {},
   "outputs": [
    {
     "name": "stderr",
     "output_type": "stream",
     "text": [
      "/Users/arnaudstiegler/anaconda3/lib/python3.6/site-packages/IPython/core/interactiveshell.py:2698: DtypeWarning: Columns (2,5,7,8,9,10,12,15,17,18,19,20,21,22,23,24,25,30,32,35,37,38,42,43,44,45,47,48,49,50,51,52,53,54,55,56,59,60,61,62,67,68,69,70,71,72,73,74,75,76,79,80,81,87,88,89,90,91,92,93,94,95,96,99,100,101,107,108,109,110,111,112,113,114,115,116,119,120,121,129,132,133,134,135,136,137,138,139,140,141,142,143,144,145,146,147,148,149,150,151,152,153,154,155,156,160,161,162,163,173,174,175) have mixed types. Specify dtype option on import or set low_memory=False.\n",
      "  interactivity=interactivity, compiler=compiler, result=result)\n"
     ]
    }
   ],
   "source": [
    "df_rch = pd.read_csv(\"data/OP_DTL_RSRCH_PGYR2017_P01182019.csv\")"
   ]
  },
  {
   "cell_type": "markdown",
   "metadata": {},
   "source": [
    "Let us see how balanced the data is:"
   ]
  },
  {
   "cell_type": "code",
   "execution_count": 5,
   "metadata": {},
   "outputs": [
    {
     "name": "stdout",
     "output_type": "stream",
     "text": [
      "0.05650219766194763\n"
     ]
    }
   ],
   "source": [
    "n_gen = df_gen.shape[0]\n",
    "n_rch = df_rch.shape[0]\n",
    "print(n_rch/n_gen)"
   ]
  },
  {
   "cell_type": "markdown",
   "metadata": {},
   "source": [
    "The data is **very imbalanced**! To deal with this imbalance upstream we will sample more of the minority class when making our dataset (we will aim at a 20/80 ratio to still keep some imbalance and be closer to the real-world context than a 50/50 split - albeit we are still very far from the actual 5/100 ratio)"
   ]
  },
  {
   "cell_type": "markdown",
   "metadata": {},
   "source": [
    "We create the target variable:"
   ]
  },
  {
   "cell_type": "code",
   "execution_count": 6,
   "metadata": {
    "collapsed": true
   },
   "outputs": [],
   "source": [
    "df_gen['is_rch'] = 0"
   ]
  },
  {
   "cell_type": "code",
   "execution_count": 7,
   "metadata": {
    "collapsed": true
   },
   "outputs": [],
   "source": [
    "df_rch['is_rch'] = 1"
   ]
  },
  {
   "cell_type": "markdown",
   "metadata": {},
   "source": [
    "**One way to start figuring one which variables leak information on the target is to see which variables appear in only one of the files - they are part of the leaking variables**. Such variables are:"
   ]
  },
  {
   "cell_type": "code",
   "execution_count": 8,
   "metadata": {
    "collapsed": true
   },
   "outputs": [],
   "source": [
    "in_gen_not_rch = set(df_gen.columns)-set(df_rch.columns)\n",
    "in_rch_not_gen = set(df_rch.columns)-set(df_gen.columns)\n",
    "in_both = set(df_gen.columns).intersection(set(df_rch.columns))"
   ]
  },
  {
   "cell_type": "markdown",
   "metadata": {},
   "source": [
    "We sample from both datasets (10,000 records total), keeping only the columns they have in common:"
   ]
  },
  {
   "cell_type": "code",
   "execution_count": 9,
   "metadata": {
    "collapsed": true
   },
   "outputs": [],
   "source": [
    "df_gen = df_gen[list(in_both)]\n",
    "df_rch = df_rch[list(in_both)]"
   ]
  },
  {
   "cell_type": "code",
   "execution_count": 10,
   "metadata": {
    "collapsed": true
   },
   "outputs": [],
   "source": [
    "df_gen = df_gen.sample(n=80000, random_state=0)\n",
    "df_rch = df_rch.sample(n=20000, random_state=0)"
   ]
  },
  {
   "cell_type": "code",
   "execution_count": 11,
   "metadata": {
    "collapsed": true
   },
   "outputs": [],
   "source": [
    "df = pd.concat([df_gen, df_rch])"
   ]
  },
  {
   "cell_type": "markdown",
   "metadata": {},
   "source": [
    "To (try to) free some memory:"
   ]
  },
  {
   "cell_type": "code",
   "execution_count": 12,
   "metadata": {
    "collapsed": true
   },
   "outputs": [],
   "source": [
    "del df_gen\n",
    "del df_rch"
   ]
  },
  {
   "cell_type": "markdown",
   "metadata": {},
   "source": [
    "### TEMP"
   ]
  },
  {
   "cell_type": "code",
   "execution_count": 13,
   "metadata": {
    "collapsed": true
   },
   "outputs": [],
   "source": [
    "df.to_csv(\"data/concatenated.csv\", index=False)"
   ]
  },
  {
   "cell_type": "code",
   "execution_count": 3,
   "metadata": {},
   "outputs": [
    {
     "name": "stderr",
     "output_type": "stream",
     "text": [
      "/anaconda3/lib/python3.6/site-packages/IPython/core/interactiveshell.py:3020: DtypeWarning: Columns (2,8,27,38,56,60) have mixed types. Specify dtype option on import or set low_memory=False.\n",
      "  interactivity=interactivity, compiler=compiler, result=result)\n"
     ]
    }
   ],
   "source": [
    "df = pd.read_csv(\"data/concatenated.csv\")"
   ]
  },
  {
   "cell_type": "markdown",
   "metadata": {},
   "source": [
    "### TEMP END"
   ]
  },
  {
   "cell_type": "markdown",
   "metadata": {},
   "source": [
    "We shuffle records so that we don't have to worry about the ordering of the target variable later:"
   ]
  },
  {
   "cell_type": "code",
   "execution_count": 4,
   "metadata": {
    "collapsed": true
   },
   "outputs": [],
   "source": [
    "df = df.sample(frac=1, random_state=0)"
   ]
  },
  {
   "cell_type": "code",
   "execution_count": 5,
   "metadata": {
    "collapsed": true
   },
   "outputs": [],
   "source": [
    "working_df = df.copy()"
   ]
  },
  {
   "cell_type": "code",
   "execution_count": 7,
   "metadata": {},
   "outputs": [
    {
     "data": {
      "text/plain": [
       "(10000, 65)"
      ]
     },
     "execution_count": 7,
     "metadata": {},
     "output_type": "execute_result"
    }
   ],
   "source": [
    "working_df.shape"
   ]
  },
  {
   "cell_type": "markdown",
   "metadata": {},
   "source": [
    "To reduce the set of predictors to choose from: we remove predictors that have more than 9,000 missing values (out of a little over 10,000 rows) - we might go back and fetch some of these later as `NA` values for categorical variable can carry a lot of information."
   ]
  },
  {
   "cell_type": "code",
   "execution_count": 8,
   "metadata": {
    "collapsed": true
   },
   "outputs": [],
   "source": [
    "working_df = working_df.iloc[:,list(df.isna().sum() < 9*1e3)]"
   ]
  },
  {
   "cell_type": "markdown",
   "metadata": {},
   "source": [
    "Columns `Payment_Publication_Date`, `Program_Year`, `Delay_in_Publication_Indicator` have only one value and so are completely uninformative for classification purposes."
   ]
  },
  {
   "cell_type": "markdown",
   "metadata": {},
   "source": [
    "Column `Applicable_Manufacturer_or_Applicable_GPO_Making_Payment_Name` (categorical) has 533 distinct value as well as formatting issues (same company can have different strings representing it). While we could use Bayesian target encoding to incorporate it in the model this would probably do more harm than good with information leakage. **With respect to our data size (10,000 rows for train+test) we probably can't afford to keep such variables that would make our data too high-dimensional with not enough data to capture the intricacies of the dimensions)**.\n",
    "\n",
    "For similar reasons we will also remove `Submitting_Applicable_Manufacturer_or_Applicable_GPO_Name`, `Recipient_Primary_Business_Street_Address_Line1`, `Applicable_Manufacturer_or_Applicable_GPO_Making_Payment_ID`, `Physician_Middle_Name`, `Physician_First_Name`, `Name_of_Drug_or_Biological_or_Device_or_Medical_Supply_2`, `Record_ID`, `Recipient_City`, `Recipient_Zip_Code`, `Physician_Last_Name`, `Physician_Profile_ID`, `Associated_Drug_or_Biological_NDC_2`, `Name_of_Drug_or_Biological_or_Device_or_Medical_Supply_1`, `Recipient_Primary_Business_Street_Address_Line2`, `Associated_Drug_or_Biological_NDC_1`, `Product_Category_or_Therapeutic_Area_1`, `Product_Category_or_Therapeutic_Area_2`"
   ]
  },
  {
   "cell_type": "code",
   "execution_count": 9,
   "metadata": {
    "collapsed": true
   },
   "outputs": [],
   "source": [
    "to_keep = ['Physician_License_State_code1',\n",
    "           'Applicable_Manufacturer_or_Applicable_GPO_Making_Payment_Country',\n",
    "           'Related_Product_Indicator',\n",
    "           'Physician_Primary_Type',\n",
    "           'Form_of_Payment_or_Transfer_of_Value',\n",
    "           'Change_Type',\n",
    "           'Covered_or_Noncovered_Indicator_2',\n",
    "           'Total_Amount_of_Payment_USDollars',\n",
    "           'Recipient_State',\n",
    "           'Date_of_Payment',\n",
    "           'Physician_Specialty',\n",
    "           'Covered_Recipient_Type',\n",
    "           'Indicate_Drug_or_Biological_or_Device_or_Medical_Supply_2',\n",
    "           'Applicable_Manufacturer_or_Applicable_GPO_Making_Payment_State',\n",
    "           'Indicate_Drug_or_Biological_or_Device_or_Medical_Supply_1',\n",
    "           'Covered_or_Noncovered_Indicator_1',\n",
    "           'Recipient_Country',\n",
    "           'Dispute_Status_for_Publication',\n",
    "           'is_rch']"
   ]
  },
  {
   "cell_type": "code",
   "execution_count": 10,
   "metadata": {
    "collapsed": true
   },
   "outputs": [],
   "source": [
    "working_df = working_df[to_keep]"
   ]
  },
  {
   "cell_type": "code",
   "execution_count": 11,
   "metadata": {},
   "outputs": [
    {
     "data": {
      "text/plain": [
       "Index(['Physician_License_State_code1',\n",
       "       'Applicable_Manufacturer_or_Applicable_GPO_Making_Payment_Country',\n",
       "       'Related_Product_Indicator', 'Physician_Primary_Type',\n",
       "       'Form_of_Payment_or_Transfer_of_Value', 'Change_Type',\n",
       "       'Covered_or_Noncovered_Indicator_2',\n",
       "       'Total_Amount_of_Payment_USDollars', 'Recipient_State',\n",
       "       'Date_of_Payment', 'Physician_Specialty', 'Covered_Recipient_Type',\n",
       "       'Indicate_Drug_or_Biological_or_Device_or_Medical_Supply_2',\n",
       "       'Applicable_Manufacturer_or_Applicable_GPO_Making_Payment_State',\n",
       "       'Indicate_Drug_or_Biological_or_Device_or_Medical_Supply_1',\n",
       "       'Covered_or_Noncovered_Indicator_1', 'Recipient_Country',\n",
       "       'Dispute_Status_for_Publication', 'is_rch'],\n",
       "      dtype='object')"
      ]
     },
     "execution_count": 11,
     "metadata": {},
     "output_type": "execute_result"
    }
   ],
   "source": [
    "working_df.columns"
   ]
  },
  {
   "cell_type": "code",
   "execution_count": 12,
   "metadata": {
    "collapsed": true
   },
   "outputs": [],
   "source": [
    "n_rows = working_df.shape[0]"
   ]
  },
  {
   "cell_type": "markdown",
   "metadata": {},
   "source": [
    "We still have two variables that could be too obviously correlated: `Recipient_State` and `Physician_License_State_code1`. Indeed there are equal for the following proportion of rows:"
   ]
  },
  {
   "cell_type": "code",
   "execution_count": 13,
   "metadata": {},
   "outputs": [
    {
     "data": {
      "text/plain": [
       "0.7109"
      ]
     },
     "execution_count": 13,
     "metadata": {},
     "output_type": "execute_result"
    }
   ],
   "source": [
    "(working_df['Recipient_State'] == working_df['Physician_License_State_code1']).sum() / n_rows"
   ]
  },
  {
   "cell_type": "markdown",
   "metadata": {},
   "source": [
    "This ratio is very high considering that there are 50 different possible values for each."
   ]
  },
  {
   "cell_type": "markdown",
   "metadata": {},
   "source": [
    "We will keep only `Recipient_State` (somewhat arbitrarily) for now and might go back an replace it with `Physician_License_State_code1` to see if the model performs better."
   ]
  },
  {
   "cell_type": "code",
   "execution_count": 14,
   "metadata": {
    "collapsed": true
   },
   "outputs": [],
   "source": [
    "to_remove = ['Physician_License_State_code1']"
   ]
  },
  {
   "cell_type": "markdown",
   "metadata": {},
   "source": [
    "To use `Date_of_Payment` we will extract information that can be useful for our models:"
   ]
  },
  {
   "cell_type": "markdown",
   "metadata": {},
   "source": [
    "We create a feature: `Day_of_week_of_Payment`:"
   ]
  },
  {
   "cell_type": "code",
   "execution_count": 15,
   "metadata": {
    "collapsed": true
   },
   "outputs": [],
   "source": [
    "working_df['Date_of_Payment'] = pd.to_datetime(working_df['Date_of_Payment'])\n",
    "working_df['Day_of_week_of_Payment'] = working_df['Date_of_Payment'].dt.day_name()"
   ]
  },
  {
   "cell_type": "markdown",
   "metadata": {},
   "source": [
    "As well as an indicator variable `Week_or_weekend_Payment` (1 for a weekday and 0 for the weekend):"
   ]
  },
  {
   "cell_type": "code",
   "execution_count": 16,
   "metadata": {
    "collapsed": true
   },
   "outputs": [],
   "source": [
    "def weekend_map(row):\n",
    "    if row['Day_of_week_of_Payment'] == 'Saturday':  \n",
    "        return 1\n",
    "    elif row['Day_of_week_of_Payment'] == 'Sunday':\n",
    "        return 1\n",
    "    else:\n",
    "        return 0\n",
    "    \n",
    "working_df['Week_or_weekend_Payment'] = working_df.apply(weekend_map, axis=1).astype(object)"
   ]
  },
  {
   "cell_type": "markdown",
   "metadata": {},
   "source": [
    "We also extract the day of the month (`Day_of_month_of_Payment`) as well as the month (`Month_of_Payment`):"
   ]
  },
  {
   "cell_type": "code",
   "execution_count": 17,
   "metadata": {
    "collapsed": true
   },
   "outputs": [],
   "source": [
    "working_df['Day_of_month_of_Payment'] = working_df['Date_of_Payment'].dt.day.astype(object)\n",
    "working_df['Month_of_Payment'] = working_df['Date_of_Payment'].dt.month.astype(object)"
   ]
  },
  {
   "cell_type": "markdown",
   "metadata": {},
   "source": [
    "And we get rid of the raw date."
   ]
  },
  {
   "cell_type": "code",
   "execution_count": 18,
   "metadata": {
    "collapsed": true
   },
   "outputs": [],
   "source": [
    "working_df = working_df.drop('Date_of_Payment', axis=1)"
   ]
  },
  {
   "cell_type": "markdown",
   "metadata": {},
   "source": [
    "We also need to extract information from `Physician_Specialty` in which specialties are separated by `|`. We extract the values in three new columns."
   ]
  },
  {
   "cell_type": "code",
   "execution_count": 19,
   "metadata": {
    "collapsed": true
   },
   "outputs": [],
   "source": [
    "working_df[['Physician_Specialty_1', \n",
    "    'Physician_Specialty_2', \n",
    "    'Physician_Specialty_3']] = working_df['Physician_Specialty'].str.split('|', expand=True)"
   ]
  },
  {
   "cell_type": "markdown",
   "metadata": {},
   "source": [
    "It seems like specialties are getting more specific from `Physician_Specialty_1` to `Physician_Specialty_3`:"
   ]
  },
  {
   "cell_type": "code",
   "execution_count": 20,
   "metadata": {},
   "outputs": [
    {
     "data": {
      "text/plain": [
       "11"
      ]
     },
     "execution_count": 20,
     "metadata": {},
     "output_type": "execute_result"
    }
   ],
   "source": [
    "len(working_df['Physician_Specialty_1'].unique())"
   ]
  },
  {
   "cell_type": "code",
   "execution_count": 21,
   "metadata": {},
   "outputs": [
    {
     "data": {
      "text/plain": [
       "43"
      ]
     },
     "execution_count": 21,
     "metadata": {},
     "output_type": "execute_result"
    }
   ],
   "source": [
    "len(working_df['Physician_Specialty_2'].unique())"
   ]
  },
  {
   "cell_type": "code",
   "execution_count": 22,
   "metadata": {},
   "outputs": [
    {
     "data": {
      "text/plain": [
       "118"
      ]
     },
     "execution_count": 22,
     "metadata": {},
     "output_type": "execute_result"
    }
   ],
   "source": [
    "len(working_df['Physician_Specialty_3'].unique())"
   ]
  },
  {
   "cell_type": "markdown",
   "metadata": {},
   "source": [
    "Only `Physician_Specialty_1` and maybe `Physician_Specialty_2` seem like manageable-sized categorical variable so we will keep only these (and might have to drop `Physician_Specialty_2` later):"
   ]
  },
  {
   "cell_type": "code",
   "execution_count": 23,
   "metadata": {
    "collapsed": true
   },
   "outputs": [],
   "source": [
    "to_remove.append('Physician_Specialty_3')\n",
    "to_remove.append('Physician_Specialty')"
   ]
  },
  {
   "cell_type": "markdown",
   "metadata": {},
   "source": [
    "We also have two variables that may deliver redundant information: `Covered_Recipient_Type`, `Covered_or_Noncovered_Indicator_1`"
   ]
  },
  {
   "cell_type": "code",
   "execution_count": 25,
   "metadata": {},
   "outputs": [
    {
     "data": {
      "text/plain": [
       "0.8383"
      ]
     },
     "execution_count": 25,
     "metadata": {},
     "output_type": "execute_result"
    }
   ],
   "source": [
    "((working_df['Covered_Recipient_Type'] == 'Non-covered Recipient Entity') \n",
    " == (working_df['Covered_or_Noncovered_Indicator_1'] == 'Non-covered')).sum() / n_rows"
   ]
  },
  {
   "cell_type": "markdown",
   "metadata": {},
   "source": [
    "The category 'Non-covered Recipient Entity' is strongly correlated with 'Non-covered' as expected and they represent the majority of records. We will keep only `Covered_Recipient_Type` that is more fine-grained and might deliver more valuable (we hope) information."
   ]
  },
  {
   "cell_type": "code",
   "execution_count": 26,
   "metadata": {
    "collapsed": true
   },
   "outputs": [],
   "source": [
    "to_remove.append('Covered_or_Noncovered_Indicator_1')"
   ]
  },
  {
   "cell_type": "markdown",
   "metadata": {},
   "source": [
    "We remove those few variables we decided to take out and look at the shape of our data now:"
   ]
  },
  {
   "cell_type": "code",
   "execution_count": 27,
   "metadata": {},
   "outputs": [
    {
     "name": "stdout",
     "output_type": "stream",
     "text": [
      "(10000, 21)\n"
     ]
    }
   ],
   "source": [
    "working_df = working_df.drop(columns=to_remove)\n",
    "print(working_df.shape)"
   ]
  },
  {
   "cell_type": "markdown",
   "metadata": {},
   "source": [
    "Our data is pretty tall as of now but we expect to grow much wider after one-hot-encoding of some categorical variables."
   ]
  },
  {
   "cell_type": "markdown",
   "metadata": {},
   "source": [
    "**Now that we have some promising candidates for our features, let us now observe how some variables are related to the target to justify keeping or dropping them**:"
   ]
  },
  {
   "cell_type": "code",
   "execution_count": 28,
   "metadata": {},
   "outputs": [
    {
     "data": {
      "text/plain": [
       "Index(['Applicable_Manufacturer_or_Applicable_GPO_Making_Payment_Country',\n",
       "       'Related_Product_Indicator', 'Physician_Primary_Type',\n",
       "       'Form_of_Payment_or_Transfer_of_Value', 'Change_Type',\n",
       "       'Covered_or_Noncovered_Indicator_2',\n",
       "       'Total_Amount_of_Payment_USDollars', 'Recipient_State',\n",
       "       'Covered_Recipient_Type',\n",
       "       'Indicate_Drug_or_Biological_or_Device_or_Medical_Supply_2',\n",
       "       'Applicable_Manufacturer_or_Applicable_GPO_Making_Payment_State',\n",
       "       'Indicate_Drug_or_Biological_or_Device_or_Medical_Supply_1',\n",
       "       'Recipient_Country', 'Dispute_Status_for_Publication', 'is_rch',\n",
       "       'Day_of_week_of_Payment', 'Week_or_weekend_Payment',\n",
       "       'Day_of_month_of_Payment', 'Month_of_Payment', 'Physician_Specialty_1',\n",
       "       'Physician_Specialty_2'],\n",
       "      dtype='object')"
      ]
     },
     "execution_count": 28,
     "metadata": {},
     "output_type": "execute_result"
    }
   ],
   "source": [
    "working_df.columns"
   ]
  },
  {
   "cell_type": "markdown",
   "metadata": {},
   "source": [
    "*Let us now look at the distribution of the predictors and how it varies with values of the target variable:*"
   ]
  },
  {
   "cell_type": "markdown",
   "metadata": {},
   "source": [
    "- `Applicable_Manufacturer_or_Applicable_GPO_Making_Payment_Country` "
   ]
  },
  {
   "cell_type": "code",
   "execution_count": 29,
   "metadata": {},
   "outputs": [
    {
     "data": {
      "image/png": "[encoded data removed]",
      "text/plain": [
       "<Figure size 864x576 with 4 Axes>"
      ]
     },
     "metadata": {
      "needs_background": "light"
     },
     "output_type": "display_data"
    }
   ],
   "source": [
    "temp = working_df.groupby(['Applicable_Manufacturer_or_Applicable_GPO_Making_Payment_Country', \n",
    "                   'is_rch'])['is_rch'].count()\n",
    "temp = temp.unstack(1)\n",
    "temp.index.name = \"countries\"\n",
    "\n",
    "fig, ax = plt.subplots(2, 2, figsize=(12, 8))\n",
    "fig.suptitle(\"Counts of country payments split by target values\")\n",
    "\n",
    "ax[0, 0].barh(y=temp.index, width=temp[0])\n",
    "ax[0, 0].set_title(\"showing all countries - not research\")\n",
    "\n",
    "ax[1, 0].barh(y=temp.index, width=temp[1])\n",
    "ax[1, 0].set_title(\"research\")\n",
    "\n",
    "temp = temp.drop('United States', axis=0)\n",
    "\n",
    "ax[0, 1].barh(y=temp.index, width=temp[0])\n",
    "ax[0, 1].set_title(\"with US removed - not research\")\n",
    "\n",
    "ax[1, 1].barh(y=temp.index, width=temp[1])\n",
    "ax[1, 1].set_title(\"research\")\n",
    "\n",
    "fig.subplots_adjust(wspace=.35)"
   ]
  },
  {
   "cell_type": "markdown",
   "metadata": {},
   "source": [
    "Above are bar charts of counts of each payment split across values of the target (research/not research) horizontally, and with and without the US included to gain more insight on the full distribution. **Looking at these plots we see that the distribution across countries outside of the US is very different between research and non-research payments. This suggests that the predictor might be helpful to predict the target but only rather for the payments outside of the US - a minority of payments. Since a large majority of payments are made from the US, this predictor is certainly not sufficient to explain the target on its own.**"
   ]
  },
  {
   "cell_type": "markdown",
   "metadata": {},
   "source": [
    "- `Form_of_Payment_or_Transfer_of_Value`"
   ]
  },
  {
   "cell_type": "code",
   "execution_count": 30,
   "metadata": {},
   "outputs": [
    {
     "data": {
      "text/plain": [
       "<matplotlib.axes._subplots.AxesSubplot at 0x1249b0fd0>"
      ]
     },
     "execution_count": 30,
     "metadata": {},
     "output_type": "execute_result"
    },
    {
     "data": {
      "image/png": "[encoded data removed]",
      "text/plain": [
       "<Figure size 432x288 with 1 Axes>"
      ]
     },
     "metadata": {
      "needs_background": "light"
     },
     "output_type": "display_data"
    }
   ],
   "source": [
    "temp = working_df.groupby(['Form_of_Payment_or_Transfer_of_Value', 'is_rch'])['is_rch'].count().unstack(1)\n",
    "temp[0] = temp[0]/temp[0].sum()\n",
    "temp[1] = temp[1]/temp[1].sum()\n",
    "temp.plot(kind='barh', title=\"Distribution of `Form_of_Payment_or_Transfer_of_Value` in each group\")"
   ]
  },
  {
   "cell_type": "markdown",
   "metadata": {},
   "source": [
    "**This feature seems particularly valuable in predicting if a payment is a research one or not!**"
   ]
  },
  {
   "cell_type": "markdown",
   "metadata": {},
   "source": [
    "- `Total_Amount_of_Payment_USDollars`"
   ]
  },
  {
   "cell_type": "code",
   "execution_count": 31,
   "metadata": {
    "collapsed": true
   },
   "outputs": [],
   "source": [
    "working_df1 = working_df[working_df['is_rch'] == 0]\n",
    "working_df2 = working_df[working_df['is_rch'] == 1]"
   ]
  },
  {
   "cell_type": "code",
   "execution_count": 32,
   "metadata": {},
   "outputs": [
    {
     "data": {
      "image/png": "[encoded data removed]",
      "text/plain": [
       "<Figure size 720x216 with 2 Axes>"
      ]
     },
     "metadata": {
      "needs_background": "light"
     },
     "output_type": "display_data"
    }
   ],
   "source": [
    "fig, ax = plt.subplots(1, 2, figsize=(10,3))\n",
    "ax[0].set_title('Not research')\n",
    "ax[1].set_title('Research')\n",
    "working_df1.boxplot(column=['Total_Amount_of_Payment_USDollars'], ax=ax[0])\n",
    "working_df2.boxplot(column=['Total_Amount_of_Payment_USDollars'], ax=ax[1])\n",
    "fig.tight_layout()"
   ]
  },
  {
   "cell_type": "markdown",
   "metadata": {},
   "source": [
    "These boxplots show two very strong outliers, one for each target value. **Should we decide to keep this variable as a feature, we will need to remove those observations altogether as they risk distorting our predictions significantly**. Let us filter the bulk of outliers out and look at the distribution again:"
   ]
  },
  {
   "cell_type": "code",
   "execution_count": 33,
   "metadata": {
    "collapsed": true
   },
   "outputs": [],
   "source": [
    "working_df1 = working_df1[working_df1['Total_Amount_of_Payment_USDollars'] < 40000]\n",
    "working_df2 = working_df2[working_df2['Total_Amount_of_Payment_USDollars'] < 40000]"
   ]
  },
  {
   "cell_type": "code",
   "execution_count": 34,
   "metadata": {},
   "outputs": [
    {
     "data": {
      "image/png": "[encoded data removed]",
      "text/plain": [
       "<Figure size 720x216 with 2 Axes>"
      ]
     },
     "metadata": {
      "needs_background": "light"
     },
     "output_type": "display_data"
    }
   ],
   "source": [
    "fig, ax = plt.subplots(1, 2, figsize=(10,3))\n",
    "ax[0].set_title('Not research')\n",
    "ax[1].set_title('Research')\n",
    "working_df1.boxplot(column=['Total_Amount_of_Payment_USDollars'], ax=ax[0])\n",
    "working_df2.boxplot(column=['Total_Amount_of_Payment_USDollars'], ax=ax[1])\n",
    "fig.tight_layout()"
   ]
  },
  {
   "cell_type": "markdown",
   "metadata": {},
   "source": [
    "Both distributions are concentrated around low values of the payments (low compared to the possible range of payments found in the data) but seem significantly different, with research grants densely populated with outliers. **This variable seems like a potentially useful predictor**."
   ]
  },
  {
   "cell_type": "markdown",
   "metadata": {},
   "source": [
    "As previously mentioned, we need to get rid of the two extreme outliers:"
   ]
  },
  {
   "cell_type": "code",
   "execution_count": 35,
   "metadata": {
    "collapsed": true
   },
   "outputs": [],
   "source": [
    "working_df = working_df[working_df['Total_Amount_of_Payment_USDollars'] < 80000]"
   ]
  },
  {
   "cell_type": "markdown",
   "metadata": {},
   "source": [
    "- `Related_Product_Indicator`"
   ]
  },
  {
   "cell_type": "code",
   "execution_count": 36,
   "metadata": {},
   "outputs": [
    {
     "data": {
      "text/plain": [
       "<matplotlib.axes._subplots.AxesSubplot at 0x124bccb00>"
      ]
     },
     "execution_count": 36,
     "metadata": {},
     "output_type": "execute_result"
    },
    {
     "data": {
      "image/png": "[encoded data removed]",
      "text/plain": [
       "<Figure size 432x288 with 1 Axes>"
      ]
     },
     "metadata": {
      "needs_background": "light"
     },
     "output_type": "display_data"
    }
   ],
   "source": [
    "temp = working_df.groupby(['Related_Product_Indicator', 'is_rch'])['is_rch'].count().unstack(1)\n",
    "temp[0] = temp[0]/temp[0].sum()\n",
    "temp[1] = temp[1]/temp[1].sum()\n",
    "temp.plot(kind='bar', title=\"Distribution of `Related_Product_Indicator` in each group\")"
   ]
  },
  {
   "cell_type": "markdown",
   "metadata": {},
   "source": [
    "This plot shows that the distribution of `Related_Product_Indicator` is a little different conditional on the values of `is_rch`. There are more than 10 times more `Yes` than `No` conditional on `is_rch = 0` and about only 6 times more `Yes` than `No` conditional on `is_rch = 1`. This feature might be useful to predict `is_rch` but perhaps not very significantly so we'll drop it for now."
   ]
  },
  {
   "cell_type": "code",
   "execution_count": 37,
   "metadata": {
    "collapsed": true
   },
   "outputs": [],
   "source": [
    "to_remove = ['Related_Product_Indicator']"
   ]
  },
  {
   "cell_type": "markdown",
   "metadata": {},
   "source": [
    "- `Physician_Primary_Type`"
   ]
  },
  {
   "cell_type": "code",
   "execution_count": 38,
   "metadata": {},
   "outputs": [
    {
     "data": {
      "text/plain": [
       "<matplotlib.axes._subplots.AxesSubplot at 0x124db96d8>"
      ]
     },
     "execution_count": 38,
     "metadata": {},
     "output_type": "execute_result"
    },
    {
     "data": {
      "image/png": "[encoded data removed]",
      "text/plain": [
       "<Figure size 432x288 with 1 Axes>"
      ]
     },
     "metadata": {
      "needs_background": "light"
     },
     "output_type": "display_data"
    }
   ],
   "source": [
    "temp = working_df.groupby(['Physician_Primary_Type', 'is_rch'])['is_rch'].count().unstack(1)\n",
    "temp[0] = temp[0]/temp[0].sum()\n",
    "temp[1] = temp[1]/temp[1].sum()\n",
    "temp.plot(kind='barh', title=\"Distribution of `Physician_Primary_Type` in each group\")"
   ]
  },
  {
   "cell_type": "markdown",
   "metadata": {},
   "source": [
    "Similar conclusion as the last feature."
   ]
  },
  {
   "cell_type": "code",
   "execution_count": 39,
   "metadata": {
    "collapsed": true
   },
   "outputs": [],
   "source": [
    "to_remove.append('Physician_Primary_Type')"
   ]
  },
  {
   "cell_type": "markdown",
   "metadata": {},
   "source": [
    "Variable `Covered_Recipient_Type` **leaks too much information on the target** (see below) so we will also remove it:"
   ]
  },
  {
   "cell_type": "code",
   "execution_count": 40,
   "metadata": {},
   "outputs": [
    {
     "data": {
      "text/plain": [
       "<matplotlib.axes._subplots.AxesSubplot at 0x124e9b438>"
      ]
     },
     "execution_count": 40,
     "metadata": {},
     "output_type": "execute_result"
    },
    {
     "data": {
      "image/png": "[encoded data removed]",
      "text/plain": [
       "<Figure size 432x288 with 1 Axes>"
      ]
     },
     "metadata": {
      "needs_background": "light"
     },
     "output_type": "display_data"
    }
   ],
   "source": [
    "temp = working_df.groupby(['Covered_Recipient_Type', 'is_rch'])['is_rch'].count().unstack(1)\n",
    "temp[0] = temp[0]/temp[0].sum()\n",
    "temp[1] = temp[1]/temp[1].sum()\n",
    "temp.plot(kind='barh', title=\"Distribution of `Covered_Recipient_Type` in each group\")"
   ]
  },
  {
   "cell_type": "code",
   "execution_count": 41,
   "metadata": {
    "collapsed": true
   },
   "outputs": [],
   "source": [
    "to_remove.append('Covered_Recipient_Type')"
   ]
  },
  {
   "cell_type": "markdown",
   "metadata": {},
   "source": [
    "The two following variables have only one value across the dataset so we discard them as well:"
   ]
  },
  {
   "cell_type": "code",
   "execution_count": 42,
   "metadata": {
    "collapsed": true
   },
   "outputs": [],
   "source": [
    "to_remove.append('Recipient_Country')\n",
    "to_remove.append('Dispute_Status_for_Publication')"
   ]
  },
  {
   "cell_type": "markdown",
   "metadata": {},
   "source": [
    "We keep the other variables that are potentially informative. The final features are as follows:"
   ]
  },
  {
   "cell_type": "code",
   "execution_count": 43,
   "metadata": {
    "collapsed": true
   },
   "outputs": [],
   "source": [
    "working_df = working_df.drop(columns=to_remove)"
   ]
  },
  {
   "cell_type": "code",
   "execution_count": 44,
   "metadata": {},
   "outputs": [
    {
     "data": {
      "text/plain": [
       "Index(['Applicable_Manufacturer_or_Applicable_GPO_Making_Payment_Country',\n",
       "       'Form_of_Payment_or_Transfer_of_Value', 'Change_Type',\n",
       "       'Covered_or_Noncovered_Indicator_2',\n",
       "       'Total_Amount_of_Payment_USDollars', 'Recipient_State',\n",
       "       'Indicate_Drug_or_Biological_or_Device_or_Medical_Supply_2',\n",
       "       'Applicable_Manufacturer_or_Applicable_GPO_Making_Payment_State',\n",
       "       'Indicate_Drug_or_Biological_or_Device_or_Medical_Supply_1', 'is_rch',\n",
       "       'Day_of_week_of_Payment', 'Week_or_weekend_Payment',\n",
       "       'Day_of_month_of_Payment', 'Month_of_Payment', 'Physician_Specialty_1',\n",
       "       'Physician_Specialty_2'],\n",
       "      dtype='object')"
      ]
     },
     "execution_count": 44,
     "metadata": {},
     "output_type": "execute_result"
    }
   ],
   "source": [
    "working_df.columns"
   ]
  },
  {
   "cell_type": "markdown",
   "metadata": {},
   "source": [
    "## Task 2 Preprocessing and Baseline Model"
   ]
  },
  {
   "cell_type": "markdown",
   "metadata": {},
   "source": [
    "### Create a simple minimum viable model by doing an initial selection of features, doing appropriate preprocessing and cross-validating a linear model. Feel free to generously exclude features or do simplified preprocessing for this task. As mentioned before, you don’t need to validate the model on the whole dataset."
   ]
  },
  {
   "cell_type": "markdown",
   "metadata": {},
   "source": [
    "We are going to create an initial model with the features that we selected in **Task 1**.\n",
    "\n",
    "The only continuous feature we have is `Total_Amount_of_Payment_USDollars`."
   ]
  },
  {
   "cell_type": "code",
   "execution_count": 45,
   "metadata": {
    "collapsed": true
   },
   "outputs": [],
   "source": [
    "cont = ['Total_Amount_of_Payment_USDollars']\n",
    "cat = ['Applicable_Manufacturer_or_Applicable_GPO_Making_Payment_Country',\n",
    "       'Form_of_Payment_or_Transfer_of_Value',\n",
    "       'Change_Type',\n",
    "       'Covered_or_Noncovered_Indicator_2',\n",
    "       'Recipient_State',\n",
    "       'Indicate_Drug_or_Biological_or_Device_or_Medical_Supply_2',\n",
    "       'Applicable_Manufacturer_or_Applicable_GPO_Making_Payment_State',\n",
    "       'Indicate_Drug_or_Biological_or_Device_or_Medical_Supply_1',\n",
    "       'Day_of_week_of_Payment',\n",
    "       'Week_or_weekend_Payment',\n",
    "       'Day_of_month_of_Payment',\n",
    "       'Month_of_Payment',\n",
    "       'Physician_Specialty_1',\n",
    "       'Physician_Specialty_2']"
   ]
  },
  {
   "cell_type": "markdown",
   "metadata": {},
   "source": [
    "We check if we have missing values:"
   ]
  },
  {
   "cell_type": "code",
   "execution_count": 48,
   "metadata": {},
   "outputs": [
    {
     "data": {
      "text/plain": [
       "Applicable_Manufacturer_or_Applicable_GPO_Making_Payment_Country    False\n",
       "Form_of_Payment_or_Transfer_of_Value                                False\n",
       "Change_Type                                                         False\n",
       "Covered_or_Noncovered_Indicator_2                                   False\n",
       "Total_Amount_of_Payment_USDollars                                   False\n",
       "Recipient_State                                                     False\n",
       "Indicate_Drug_or_Biological_or_Device_or_Medical_Supply_2           False\n",
       "Applicable_Manufacturer_or_Applicable_GPO_Making_Payment_State      False\n",
       "Indicate_Drug_or_Biological_or_Device_or_Medical_Supply_1           False\n",
       "is_rch                                                              False\n",
       "Day_of_week_of_Payment                                              False\n",
       "Week_or_weekend_Payment                                             False\n",
       "Day_of_month_of_Payment                                             False\n",
       "Month_of_Payment                                                    False\n",
       "Physician_Specialty_1                                               False\n",
       "Physician_Specialty_2                                               False\n",
       "dtype: bool"
      ]
     },
     "execution_count": 48,
     "metadata": {},
     "output_type": "execute_result"
    }
   ],
   "source": [
    "working_df.isna().any()"
   ]
  },
  {
   "cell_type": "markdown",
   "metadata": {},
   "source": [
    "Missing values appear only in categorical variables. We will create a category for them for the 4 variables that have them (for both train and test data):"
   ]
  },
  {
   "cell_type": "code",
   "execution_count": 47,
   "metadata": {
    "collapsed": true
   },
   "outputs": [],
   "source": [
    "working_df = working_df.replace(to_replace={var:np.NaN for var in cat}, \n",
    "                                value=\"N/A\")"
   ]
  },
  {
   "cell_type": "markdown",
   "metadata": {},
   "source": [
    "**We can now split the data into training and test and only work with the training data, using the test data for performance measurement only**"
   ]
  },
  {
   "cell_type": "code",
   "execution_count": 49,
   "metadata": {
    "collapsed": true
   },
   "outputs": [],
   "source": [
    "y = working_df['is_rch']\n",
    "working_df = working_df.drop(columns=['is_rch'])"
   ]
  },
  {
   "cell_type": "code",
   "execution_count": 50,
   "metadata": {
    "collapsed": true
   },
   "outputs": [],
   "source": [
    "from sklearn.model_selection import train_test_split"
   ]
  },
  {
   "cell_type": "code",
   "execution_count": 51,
   "metadata": {
    "collapsed": true
   },
   "outputs": [],
   "source": [
    "train, test, y_train, y_test = train_test_split(working_df, \n",
    "                                                y, test_size=.2, \n",
    "                                                random_state=0, \n",
    "                                                stratify=y)"
   ]
  },
  {
   "cell_type": "markdown",
   "metadata": {},
   "source": [
    "We will now **randomly select 4 out of the 14 categorical features** and add the continuous feature to build our baseline model on:"
   ]
  },
  {
   "cell_type": "code",
   "execution_count": 52,
   "metadata": {
    "collapsed": true
   },
   "outputs": [],
   "source": [
    "np.random.seed(20190302)"
   ]
  },
  {
   "cell_type": "code",
   "execution_count": 53,
   "metadata": {
    "collapsed": true
   },
   "outputs": [],
   "source": [
    "rand = np.random.choice(range(15), size=11, replace=False)\n",
    "train_col_sample = train.drop(columns=train.columns[rand], axis=1)\n",
    "train_col_sample['Total_Amount_of_Payment_USDollars'] = train['Total_Amount_of_Payment_USDollars']"
   ]
  },
  {
   "cell_type": "code",
   "execution_count": 54,
   "metadata": {},
   "outputs": [
    {
     "data": {
      "text/plain": [
       "Index(['Change_Type', 'Covered_or_Noncovered_Indicator_2',\n",
       "       'Indicate_Drug_or_Biological_or_Device_or_Medical_Supply_2',\n",
       "       'Month_of_Payment', 'Total_Amount_of_Payment_USDollars'],\n",
       "      dtype='object')"
      ]
     },
     "execution_count": 54,
     "metadata": {},
     "output_type": "execute_result"
    }
   ],
   "source": [
    "train_col_sample.columns"
   ]
  },
  {
   "cell_type": "code",
   "execution_count": 55,
   "metadata": {
    "collapsed": true
   },
   "outputs": [],
   "source": [
    "cat_col_sample = ['Change_Type',\n",
    "                  'Covered_or_Noncovered_Indicator_2',\n",
    "                  'Indicate_Drug_or_Biological_or_Device_or_Medical_Supply_2',\n",
    "                  'Month_of_Payment']"
   ]
  },
  {
   "cell_type": "markdown",
   "metadata": {},
   "source": [
    "As we observed many outliers in `Total_Amount_of_Payment_USDollars` we will use a **robust scaler** for preprocessing. We will **one-hot encode** all other variables. Finally we will fit a **logistic regression** with default parameters and evaluate it with a **10 fold cross-validation** - looking at **average precision and ROC-AUC** (particularly adapted to imbalanced data such as here)."
   ]
  },
  {
   "cell_type": "code",
   "execution_count": 56,
   "metadata": {
    "collapsed": true
   },
   "outputs": [],
   "source": [
    "from sklearn.preprocessing import RobustScaler\n",
    "from sklearn.preprocessing import OneHotEncoder\n",
    "from sklearn.compose import make_column_transformer\n",
    "from sklearn.linear_model import LogisticRegression\n",
    "from sklearn.pipeline import make_pipeline\n",
    "from sklearn.model_selection import cross_validate"
   ]
  },
  {
   "cell_type": "code",
   "execution_count": 57,
   "metadata": {
    "collapsed": true
   },
   "outputs": [],
   "source": [
    "encoder = OneHotEncoder(categories=[[*working_df[var].unique(), \"N/A\"] for var in cat_col_sample])\n",
    "preprocess = make_column_transformer((RobustScaler(), cont), \n",
    "                                     (encoder, cat_col_sample))\n",
    "baseline = make_pipeline(preprocess, LogisticRegression(solver='saga', penalty='l1',\n",
    "                                                        max_iter=1e4))"
   ]
  },
  {
   "cell_type": "code",
   "execution_count": 58,
   "metadata": {
    "collapsed": true
   },
   "outputs": [],
   "source": [
    "scores = cross_validate(baseline, train_col_sample, y_train, cv=10,\n",
    "                        scoring=(\"roc_auc\", \"average_precision\"))"
   ]
  },
  {
   "cell_type": "markdown",
   "metadata": {},
   "source": [
    "The **validation scores** are:"
   ]
  },
  {
   "cell_type": "code",
   "execution_count": 59,
   "metadata": {},
   "outputs": [
    {
     "data": {
      "text/plain": [
       "(0.8507202756942833, 0.668822726035631)"
      ]
     },
     "execution_count": 59,
     "metadata": {},
     "output_type": "execute_result"
    }
   ],
   "source": [
    "scores['test_roc_auc'].mean(), scores['test_average_precision'].mean()"
   ]
  },
  {
   "cell_type": "markdown",
   "metadata": {},
   "source": [
    "The **test scores** are:"
   ]
  },
  {
   "cell_type": "code",
   "execution_count": 60,
   "metadata": {
    "collapsed": true
   },
   "outputs": [],
   "source": [
    "baseline = baseline.fit(train_col_sample, y_train)"
   ]
  },
  {
   "cell_type": "code",
   "execution_count": 61,
   "metadata": {
    "collapsed": true
   },
   "outputs": [],
   "source": [
    "from sklearn.metrics import average_precision_score\n",
    "from sklearn.metrics import roc_auc_score"
   ]
  },
  {
   "cell_type": "code",
   "execution_count": 62,
   "metadata": {
    "collapsed": true
   },
   "outputs": [],
   "source": [
    "baseline_ap = average_precision_score(y_test, baseline.predict_proba(test)[:, 1])\n",
    "baseline_ra = roc_auc_score(y_test, baseline.predict_proba(test)[:, 1])"
   ]
  },
  {
   "cell_type": "code",
   "execution_count": 63,
   "metadata": {},
   "outputs": [
    {
     "data": {
      "text/plain": [
       "(0.8605137310606061, 0.7080724783478067)"
      ]
     },
     "execution_count": 63,
     "metadata": {},
     "output_type": "execute_result"
    }
   ],
   "source": [
    "baseline_ra, baseline_ap"
   ]
  },
  {
   "cell_type": "markdown",
   "metadata": {},
   "source": [
    "We plot the **PR and ROC curves** on the **test set** to gain more insight on the model performance:"
   ]
  },
  {
   "cell_type": "code",
   "execution_count": 64,
   "metadata": {
    "collapsed": true
   },
   "outputs": [],
   "source": [
    "from sklearn.metrics import precision_recall_curve\n",
    "from sklearn.metrics import roc_curve"
   ]
  },
  {
   "cell_type": "code",
   "execution_count": 65,
   "metadata": {
    "collapsed": true
   },
   "outputs": [],
   "source": [
    "precision, recall, thresholds = precision_recall_curve(y_test, baseline.predict_proba(test)[:, 1])\n",
    "fpr, tpr, thresholds = roc_curve(y_test, baseline.predict_proba(test)[:, 1])"
   ]
  },
  {
   "cell_type": "code",
   "execution_count": 66,
   "metadata": {},
   "outputs": [
    {
     "data": {
      "image/png": "[encoded data removed]",
      "text/plain": [
       "<Figure size 864x360 with 2 Axes>"
      ]
     },
     "metadata": {
      "needs_background": "light"
     },
     "output_type": "display_data"
    }
   ],
   "source": [
    "fig, ax = plt.subplots(1, 2, figsize=(12, 5))\n",
    "\n",
    "ax[0].plot(recall, precision, label=\"baseline\")\n",
    "ax[0].set_xlabel(\"recall\")\n",
    "ax[0].set_ylabel(\"precision\")\n",
    "ax[0].set_title(\"PR curve\")\n",
    "ax[0].legend(loc=\"best\")\n",
    "\n",
    "ax[1].plot(fpr, tpr, label=\"baseline\")\n",
    "ax[1].set_xlabel(\"FPR\")\n",
    "ax[1].set_ylabel(\"TPR\")\n",
    "ax[1].set_title(\"ROC\")\n",
    "ax[1].legend(loc=\"best\")\n",
    "\n",
    "fig.tight_layout()"
   ]
  },
  {
   "cell_type": "markdown",
   "metadata": {},
   "source": [
    "## Task 3 Feature Engineering"
   ]
  },
  {
   "cell_type": "markdown",
   "metadata": {},
   "source": [
    "### Create derived features and perform more in-depth preprocessing and data cleaning. Does this improve your model? In particular, think about how to encode categorical variables."
   ]
  },
  {
   "cell_type": "markdown",
   "metadata": {},
   "source": [
    "Let us look at the features we have extracted so far:"
   ]
  },
  {
   "cell_type": "code",
   "execution_count": 67,
   "metadata": {},
   "outputs": [
    {
     "data": {
      "text/plain": [
       "Index(['Applicable_Manufacturer_or_Applicable_GPO_Making_Payment_Country',\n",
       "       'Form_of_Payment_or_Transfer_of_Value', 'Change_Type',\n",
       "       'Covered_or_Noncovered_Indicator_2',\n",
       "       'Total_Amount_of_Payment_USDollars', 'Recipient_State',\n",
       "       'Indicate_Drug_or_Biological_or_Device_or_Medical_Supply_2',\n",
       "       'Applicable_Manufacturer_or_Applicable_GPO_Making_Payment_State',\n",
       "       'Indicate_Drug_or_Biological_or_Device_or_Medical_Supply_1',\n",
       "       'Day_of_week_of_Payment', 'Week_or_weekend_Payment',\n",
       "       'Day_of_month_of_Payment', 'Month_of_Payment', 'Physician_Specialty_1',\n",
       "       'Physician_Specialty_2'],\n",
       "      dtype='object')"
      ]
     },
     "execution_count": 67,
     "metadata": {},
     "output_type": "execute_result"
    }
   ],
   "source": [
    "train.columns"
   ]
  },
  {
   "cell_type": "markdown",
   "metadata": {},
   "source": [
    "And those among the above that were used in the baseline:"
   ]
  },
  {
   "cell_type": "code",
   "execution_count": 68,
   "metadata": {},
   "outputs": [
    {
     "data": {
      "text/plain": [
       "Index(['Change_Type', 'Covered_or_Noncovered_Indicator_2',\n",
       "       'Indicate_Drug_or_Biological_or_Device_or_Medical_Supply_2',\n",
       "       'Month_of_Payment', 'Total_Amount_of_Payment_USDollars'],\n",
       "      dtype='object')"
      ]
     },
     "execution_count": 68,
     "metadata": {},
     "output_type": "execute_result"
    }
   ],
   "source": [
    "train_col_sample.columns"
   ]
  },
  {
   "cell_type": "markdown",
   "metadata": {},
   "source": [
    "**Among these we derived `Day_of_month_of_Payment`, `Day_of_week_of_Payment`, `Month_of_Payment` and `Week_or_weekend_Payment` from the original `Date_of_Payment`.**\n",
    "\n",
    "**We also extracted `Physician_Specialty_1` and `Physician_Specialty_2` from the original `Physician_Specialty`.**"
   ]
  },
  {
   "cell_type": "markdown",
   "metadata": {},
   "source": [
    "We add **another new feature (`Physician_Payment_Counts`)**: the number of payments to the physician of each payment. **We also make sure that we don't leak information from the test set into the train set by using only the training data to compute our feature.**"
   ]
  },
  {
   "cell_type": "code",
   "execution_count": 69,
   "metadata": {
    "collapsed": true
   },
   "outputs": [],
   "source": [
    "# we make sure we filter the outliers out before assigning the id column\n",
    "temp_df = df[df['Total_Amount_of_Payment_USDollars'] < 80000]\n",
    "working_df['Physician_Profile_ID'] = df['Physician_Profile_ID']"
   ]
  },
  {
   "cell_type": "code",
   "execution_count": 70,
   "metadata": {
    "collapsed": true
   },
   "outputs": [],
   "source": [
    "# we re-do the split, the random seed guarantees we will have the\n",
    "# the same records in both train and test as before,\n",
    "# with the added physician id\n",
    "train, test, y_train, y_test = train_test_split(working_df, \n",
    "                                                y, test_size=.2, \n",
    "                                                random_state=0, \n",
    "                                                stratify=y)"
   ]
  },
  {
   "cell_type": "code",
   "execution_count": 71,
   "metadata": {
    "collapsed": true
   },
   "outputs": [],
   "source": [
    "temp = train[['Physician_Profile_ID']].groupby(['Physician_Profile_ID']).size().reset_index(name='Physician_Payment_Counts')"
   ]
  },
  {
   "cell_type": "code",
   "execution_count": 72,
   "metadata": {
    "collapsed": true
   },
   "outputs": [],
   "source": [
    "# make sure we don't mess with the index and the order of the rows\n",
    "train = train.reset_index().merge(temp, how='left', on='Physician_Profile_ID').set_index('index')\n",
    "test = test.reset_index().merge(temp, how='left', on='Physician_Profile_ID').set_index('index')\n",
    "\n",
    "train['Physician_Payment_Counts'] = train['Physician_Payment_Counts'].astype(object)\n",
    "test['Physician_Payment_Counts'] = test['Physician_Payment_Counts'].astype(object)\n",
    "\n",
    "train = train.replace(to_replace={'Physician_Payment_Counts':np.NaN}, \n",
    "                      value=\"0\")\n",
    "test = test.replace(to_replace={'Physician_Payment_Counts':np.NaN}, \n",
    "                    value=\"0\")\n",
    "\n",
    "train = train.drop(columns='Physician_Profile_ID')\n",
    "test = test.drop(columns='Physician_Profile_ID')"
   ]
  },
  {
   "cell_type": "markdown",
   "metadata": {},
   "source": [
    "**Let us now add some variables we constructed from the data to our baseline model training data and look at its performance again.** (we need to do a little reprocessing again with the new added feature, and because we re-fetched train and test from the dataframe before the following preprocessing was done). We add our other newest feature to the categorical variables (it has only three levels so we believe it is better to consider it as categorical especially since it is skewed and a robust scaler might be ill-fitting)"
   ]
  },
  {
   "cell_type": "code",
   "execution_count": 73,
   "metadata": {
    "collapsed": true
   },
   "outputs": [],
   "source": [
    "cat.append('Physician_Payment_Counts')"
   ]
  },
  {
   "cell_type": "markdown",
   "metadata": {},
   "source": [
    "Adding our own features and one more existing feature:"
   ]
  },
  {
   "cell_type": "code",
   "execution_count": 74,
   "metadata": {
    "collapsed": true
   },
   "outputs": [],
   "source": [
    "train_col_sample['Day_of_month_of_Payment'] = train['Day_of_month_of_Payment']\n",
    "train_col_sample['Day_of_week_of_Payment'] = train['Day_of_week_of_Payment']\n",
    "train_col_sample['Week_or_weekend_Payment'] = train['Week_or_weekend_Payment']\n",
    "train_col_sample['Physician_Payment_Counts'] = train['Physician_Payment_Counts']\n",
    "train_col_sample['Indicate_Drug_or_Biological_or_Device_or_Medical_Supply_1'] = train['Indicate_Drug_or_Biological_or_Device_or_Medical_Supply_1']"
   ]
  },
  {
   "cell_type": "code",
   "execution_count": 75,
   "metadata": {
    "collapsed": true
   },
   "outputs": [],
   "source": [
    "cat_col_sample.append('Day_of_month_of_Payment')\n",
    "cat_col_sample.append('Day_of_week_of_Payment')\n",
    "cat_col_sample.append('Week_or_weekend_Payment')\n",
    "cat_col_sample.append('Physician_Payment_Counts')\n",
    "cat_col_sample.append('Indicate_Drug_or_Biological_or_Device_or_Medical_Supply_1')"
   ]
  },
  {
   "cell_type": "code",
   "execution_count": 76,
   "metadata": {
    "collapsed": true
   },
   "outputs": [],
   "source": [
    "encoder = OneHotEncoder(categories=[[*train[var].unique(), \"N/A\"] for var in cat_col_sample])\n",
    "preprocess = make_column_transformer((RobustScaler(), cont), \n",
    "                                     (encoder, cat_col_sample))\n",
    "baseline_improved = make_pipeline(preprocess, LogisticRegression(solver='saga', penalty='l1',\n",
    "                                                                 max_iter=1e4))"
   ]
  },
  {
   "cell_type": "code",
   "execution_count": 77,
   "metadata": {
    "collapsed": true
   },
   "outputs": [],
   "source": [
    "scores_2 = cross_validate(baseline_improved, train_col_sample, y_train, cv=10,\n",
    "                          scoring=(\"roc_auc\", \"average_precision\"))"
   ]
  },
  {
   "cell_type": "markdown",
   "metadata": {},
   "source": [
    "The **validation scores** are:"
   ]
  },
  {
   "cell_type": "code",
   "execution_count": 78,
   "metadata": {},
   "outputs": [
    {
     "data": {
      "text/plain": [
       "(0.9889735215972346, 0.9711627274877317)"
      ]
     },
     "execution_count": 78,
     "metadata": {},
     "output_type": "execute_result"
    }
   ],
   "source": [
    "scores_2['test_roc_auc'].mean(), scores_2['test_average_precision'].mean()"
   ]
  },
  {
   "cell_type": "markdown",
   "metadata": {},
   "source": [
    "The **test scores** are:"
   ]
  },
  {
   "cell_type": "code",
   "execution_count": 79,
   "metadata": {
    "collapsed": true
   },
   "outputs": [],
   "source": [
    "baseline_improved = baseline_improved.fit(train_col_sample, y_train)"
   ]
  },
  {
   "cell_type": "code",
   "execution_count": 80,
   "metadata": {
    "collapsed": true
   },
   "outputs": [],
   "source": [
    "baseline_imp_ap = average_precision_score(y_test, baseline_improved.predict_proba(test)[:, 1])\n",
    "baseline_imp_ra = roc_auc_score(y_test, baseline_improved.predict_proba(test)[:, 1])"
   ]
  },
  {
   "cell_type": "code",
   "execution_count": 81,
   "metadata": {},
   "outputs": [
    {
     "data": {
      "text/plain": [
       "(0.8647253787878788, 0.6757912394789671)"
      ]
     },
     "execution_count": 81,
     "metadata": {},
     "output_type": "execute_result"
    }
   ],
   "source": [
    "baseline_imp_ra, baseline_imp_ap"
   ]
  },
  {
   "cell_type": "markdown",
   "metadata": {},
   "source": [
    "The baseline test scores were:"
   ]
  },
  {
   "cell_type": "code",
   "execution_count": 82,
   "metadata": {},
   "outputs": [
    {
     "data": {
      "text/plain": [
       "(0.8605137310606061, 0.7080724783478067)"
      ]
     },
     "execution_count": 82,
     "metadata": {},
     "output_type": "execute_result"
    }
   ],
   "source": [
    "baseline_ra, baseline_ap"
   ]
  },
  {
   "cell_type": "markdown",
   "metadata": {},
   "source": [
    "**These metrics don't show enough of an improvement to justify adding the features**. Let us look at the PR and ROC curves:"
   ]
  },
  {
   "cell_type": "code",
   "execution_count": 83,
   "metadata": {
    "collapsed": true
   },
   "outputs": [],
   "source": [
    "precision_2, recall_2, thresholds_2 = precision_recall_curve(y_test, baseline_improved.predict_proba(test)[:, 1])\n",
    "fpr_2, tpr_2, thresholds_2 = roc_curve(y_test, baseline_improved.predict_proba(test)[:, 1])"
   ]
  },
  {
   "cell_type": "code",
   "execution_count": 84,
   "metadata": {},
   "outputs": [
    {
     "data": {
      "image/png": "[encoded data removed]",
      "text/plain": [
       "<Figure size 864x360 with 2 Axes>"
      ]
     },
     "metadata": {
      "needs_background": "light"
     },
     "output_type": "display_data"
    }
   ],
   "source": [
    "fig, ax = plt.subplots(1, 2, figsize=(12, 5))\n",
    "\n",
    "ax[0].plot(recall, precision, color ='g', label='baseline')\n",
    "ax[0].plot(recall_2, precision_2, label='with more features')\n",
    "ax[0].set_xlabel(\"recall\")\n",
    "ax[0].set_ylabel(\"precision\")\n",
    "ax[0].set_title(\"PR curve\")\n",
    "ax[0].legend(loc='best')\n",
    "\n",
    "ax[1].plot(fpr, tpr, color='g', label='baseline')\n",
    "ax[1].plot(fpr_2, tpr_2, label='with more features')\n",
    "ax[1].set_xlabel(\"FPR\")\n",
    "ax[1].set_ylabel(\"TPR\")\n",
    "ax[1].set_title(\"ROC\")\n",
    "ax[1].legend(loc='best')\n",
    "\n",
    "fig.tight_layout()"
   ]
  },
  {
   "cell_type": "markdown",
   "metadata": {},
   "source": [
    "Now the curves tell a different story: let us remember that we are working with imbalanced classes (the proportion of research payments is much smaller than that of non-research payments). Recall, or the ability to correctly cover the minority class, is often important in such cases. \n",
    "\n",
    "Let us now give a context to our classification problem: this will enable us to choose models with a goal in mind, rather than just broadly compare different metrics and pick the one that looks best on average.\n",
    "\n",
    "Let us say that we want to classify payments so that we can more easily investigate research payments to see if they were fraudulous. With this goal in mind, we would prefer all research payments to be identified, with a small cost associated to a general payment identified as a research payment. On the other hand, identifying a research payment as a general one makes us unable to investigate it and a fraudulous payment might slip through: this has a higher cost.\n",
    "\n",
    "**Therefore we would like our model's coverage (or recall) to be high.**\n",
    "\n",
    "**To compare both models on the basis of this goal we need to look at high recall (TPR) areas on the curves.** The model with added features' curves are higher than the baseline's by quite a margin for recalls of 0.8 and larger. It would seem that adding engineered features served our goal. Should we stop here we would probably go with the newer model. The gain is not significant enough to stop here however."
   ]
  },
  {
   "cell_type": "code",
   "execution_count": 481,
   "metadata": {
    "collapsed": true
   },
   "outputs": [],
   "source": [
    "# other ways to encode categorical variables???"
   ]
  },
  {
   "cell_type": "markdown",
   "metadata": {},
   "source": [
    "## Task 4 Any model"
   ]
  },
  {
   "cell_type": "markdown",
   "metadata": {},
   "source": [
    "### Use any classification model we discussed (trees, forests, gradient boosting, SVM) to improve your result. You can (and probably should) change your preprocessing and feature engineering to be suitable for the model. You are not required to try all of these models. Tune parameters as appropriate."
   ]
  },
  {
   "cell_type": "code",
   "execution_count": null,
   "metadata": {
    "collapsed": true
   },
   "outputs": [],
   "source": []
  }
 ],
 "metadata": {
  "kernelspec": {
   "display_name": "Python 3",
   "language": "python",
   "name": "python3"
  },
  "language_info": {
   "codemirror_mode": {
    "name": "ipython",
    "version": 3
   },
   "file_extension": ".py",
   "mimetype": "text/x-python",
   "name": "python",
   "nbconvert_exporter": "python",
   "pygments_lexer": "ipython3",
   "version": "3.6.2"
  }
 },
 "nbformat": 4,
 "nbformat_minor": 2
}
